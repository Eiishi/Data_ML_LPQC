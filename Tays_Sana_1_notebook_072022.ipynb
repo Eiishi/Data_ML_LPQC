{
 "cells": [
  {
   "cell_type": "markdown",
   "id": "57ec1c7e",
   "metadata": {},
   "source": [
    "# Analyse des pays pour une expansion à l'internationale"
   ]
  },
  {
   "cell_type": "markdown",
   "id": "054f205d",
   "metadata": {},
   "source": [
    "## La poule qui chante"
   ]
  },
  {
   "cell_type": "code",
   "execution_count": 133,
   "id": "c0c7be37",
   "metadata": {},
   "outputs": [],
   "source": [
    "import pandas as pd\n",
    "import numpy as np\n",
    "from sklearn import preprocessing, decomposition, metrics\n",
    "from sklearn.cluster import AgglomerativeClustering, KMeans\n",
    "import scipy.cluster.hierarchy as shc\n",
    "import matplotlib.pyplot as plt\n",
    "%matplotlib inline\n",
    "import seaborn as sns\n",
    "import plotly.express as px"
   ]
  },
  {
   "cell_type": "markdown",
   "id": "4eb15182",
   "metadata": {},
   "source": [
    "### Importation des données, filtrage des colonnes"
   ]
  },
  {
   "cell_type": "markdown",
   "id": "069d30d5",
   "metadata": {},
   "source": [
    "Importation des données fournies (disponibilité alimentaire, population) :"
   ]
  },
  {
   "cell_type": "code",
   "execution_count": 134,
   "id": "58ddb4f2",
   "metadata": {
    "scrolled": true
   },
   "outputs": [],
   "source": [
    "data = pd.read_csv(\"../Documents/Sana/Data Analyst/P9/DAN-P9-data/DisponibiliteAlimentaire_2017.csv\")\n",
    "data.drop(columns = {'Code Domaine', 'Domaine', 'Code zone', 'Code Élément', 'Code Produit', 'Code année', 'Symbole'}, inplace=True)"
   ]
  },
  {
   "cell_type": "code",
   "execution_count": 135,
   "id": "d0544bc9",
   "metadata": {},
   "outputs": [],
   "source": [
    "pop = pd.read_csv(\"../Documents/Sana/Data Analyst/P9/DAN-P9-data/Population_2000_2018.csv\")\n",
    "pop.drop(columns = {'Code Domaine', 'Domaine', 'Code zone', 'Code Élément', 'Élément', 'Produit', 'Code Produit', 'Code année', 'Symbole'}, inplace=True)"
   ]
  },
  {
   "cell_type": "markdown",
   "id": "c374044c",
   "metadata": {},
   "source": [
    "Importation des données recueillies en *open data* (PIB, importation de volaille française) :"
   ]
  },
  {
   "cell_type": "code",
   "execution_count": 136,
   "id": "7e104144",
   "metadata": {},
   "outputs": [],
   "source": [
    "pib = pd.read_csv(\"../Documents/Sana/Data Analyst/P9/DAN-P9-data/FAO_PIB_2017.csv\")\n",
    "pib = pib[['Zone', '?l?ment', 'Unit?', 'Valeur', 'Description du Symbole']].rename(columns = {'?l?ment' : 'Élément', 'Unit?' : 'Unité', 'Valeur' : 'PIB'})"
   ]
  },
  {
   "cell_type": "code",
   "execution_count": 137,
   "id": "8a7af025",
   "metadata": {},
   "outputs": [],
   "source": [
    "import_volaille = pd.read_csv(\"../Documents/Sana/Data Analyst/P9/DAN-P9-data/FAO_import_volaille_fr.csv\")\n",
    "import_volaille = import_volaille[['Pays d?clarants', 'Unit?', 'Valeur', 'Description du Symbole']].rename(columns = {'Unit?' : 'Unité', 'Pays d?clarants' : 'Zone', 'Valeur' : 'Importation de volaille française en 2017'})"
   ]
  },
  {
   "cell_type": "markdown",
   "id": "42d9cf76",
   "metadata": {},
   "source": [
    "### Préparation des données"
   ]
  },
  {
   "cell_type": "markdown",
   "id": "0e186796",
   "metadata": {},
   "source": [
    "Vérification des types de données et des valeurs manquantes."
   ]
  },
  {
   "cell_type": "code",
   "execution_count": 138,
   "id": "7daf62e3",
   "metadata": {},
   "outputs": [
    {
     "data": {
      "text/plain": [
       "Zone                       object\n",
       "Élément                    object\n",
       "Produit                    object\n",
       "Année                       int64\n",
       "Unité                      object\n",
       "Valeur                    float64\n",
       "Description du Symbole     object\n",
       "dtype: object"
      ]
     },
     "execution_count": 138,
     "metadata": {},
     "output_type": "execute_result"
    }
   ],
   "source": [
    "data.dtypes"
   ]
  },
  {
   "cell_type": "code",
   "execution_count": 139,
   "id": "e0e984ff",
   "metadata": {},
   "outputs": [
    {
     "data": {
      "text/plain": [
       "Zone                      0.0\n",
       "Élément                   0.0\n",
       "Produit                   0.0\n",
       "Année                     0.0\n",
       "Unité                     0.0\n",
       "Valeur                    0.0\n",
       "Description du Symbole    0.0\n",
       "dtype: float64"
      ]
     },
     "execution_count": 139,
     "metadata": {},
     "output_type": "execute_result"
    }
   ],
   "source": [
    "data.isna().mean()"
   ]
  },
  {
   "cell_type": "code",
   "execution_count": 140,
   "id": "1df4e200",
   "metadata": {},
   "outputs": [
    {
     "data": {
      "text/plain": [
       "Zone                       object\n",
       "Année                       int64\n",
       "Unité                      object\n",
       "Valeur                    float64\n",
       "Description du Symbole     object\n",
       "Note                       object\n",
       "dtype: object"
      ]
     },
     "execution_count": 140,
     "metadata": {},
     "output_type": "execute_result"
    }
   ],
   "source": [
    "pop.dtypes"
   ]
  },
  {
   "cell_type": "code",
   "execution_count": 141,
   "id": "5310652c",
   "metadata": {},
   "outputs": [
    {
     "data": {
      "text/plain": [
       "Zone                      0.00000\n",
       "Année                     0.00000\n",
       "Unité                     0.00000\n",
       "Valeur                    0.00000\n",
       "Description du Symbole    0.00000\n",
       "Note                      0.94151\n",
       "dtype: float64"
      ]
     },
     "execution_count": 141,
     "metadata": {},
     "output_type": "execute_result"
    }
   ],
   "source": [
    "pop.isna().mean()"
   ]
  },
  {
   "cell_type": "code",
   "execution_count": 142,
   "id": "c6cb0297",
   "metadata": {},
   "outputs": [
    {
     "data": {
      "text/plain": [
       "Zone                       object\n",
       "Élément                    object\n",
       "Unité                      object\n",
       "PIB                       float64\n",
       "Description du Symbole     object\n",
       "dtype: object"
      ]
     },
     "execution_count": 142,
     "metadata": {},
     "output_type": "execute_result"
    }
   ],
   "source": [
    "pib.dtypes"
   ]
  },
  {
   "cell_type": "code",
   "execution_count": 143,
   "id": "51b384e3",
   "metadata": {},
   "outputs": [
    {
     "data": {
      "text/plain": [
       "Zone                      0.0\n",
       "Élément                   0.0\n",
       "Unité                     0.0\n",
       "PIB                       0.0\n",
       "Description du Symbole    0.0\n",
       "dtype: float64"
      ]
     },
     "execution_count": 143,
     "metadata": {},
     "output_type": "execute_result"
    }
   ],
   "source": [
    "pib.isna().mean()"
   ]
  },
  {
   "cell_type": "code",
   "execution_count": 144,
   "id": "aa16fdbc",
   "metadata": {},
   "outputs": [
    {
     "data": {
      "text/plain": [
       "Zone                                          object\n",
       "Unité                                         object\n",
       "Importation de volaille française en 2017    float64\n",
       "Description du Symbole                        object\n",
       "dtype: object"
      ]
     },
     "execution_count": 144,
     "metadata": {},
     "output_type": "execute_result"
    }
   ],
   "source": [
    "import_volaille.dtypes"
   ]
  },
  {
   "cell_type": "code",
   "execution_count": 145,
   "id": "37f74a83",
   "metadata": {},
   "outputs": [
    {
     "data": {
      "text/plain": [
       "Zone                                         0.000000\n",
       "Unité                                        0.000000\n",
       "Importation de volaille française en 2017    0.031915\n",
       "Description du Symbole                       0.000000\n",
       "dtype: float64"
      ]
     },
     "execution_count": 145,
     "metadata": {},
     "output_type": "execute_result"
    }
   ],
   "source": [
    "import_volaille.isna().mean()"
   ]
  },
  {
   "cell_type": "markdown",
   "id": "39da319c",
   "metadata": {},
   "source": [
    "Les données sont exploitables."
   ]
  },
  {
   "cell_type": "markdown",
   "id": "569aa65d",
   "metadata": {},
   "source": [
    "### Fusion et filtrage des tables"
   ]
  },
  {
   "cell_type": "markdown",
   "id": "f451da3c",
   "metadata": {},
   "source": [
    "On procède à un nettoyage des tables pour ne garder que les informations essentielles, et on fusionne les tables pour centraliser les informations au maximum afin de faciliter l'étude."
   ]
  },
  {
   "cell_type": "code",
   "execution_count": 146,
   "id": "79bf3364",
   "metadata": {},
   "outputs": [],
   "source": [
    "pop = pop[pop['Année'] == 2017]"
   ]
  },
  {
   "cell_type": "code",
   "execution_count": 147,
   "id": "533b9eb6",
   "metadata": {},
   "outputs": [],
   "source": [
    "data = data[data['Élément'].isin(['Production', 'Importations - Quantité', 'Disponibilité intérieure', 'Nourriture', 'Disponibilité alimentaire en quantité (kg/personne/an)'])]"
   ]
  },
  {
   "cell_type": "code",
   "execution_count": 148,
   "id": "aa2c78a1",
   "metadata": {},
   "outputs": [],
   "source": [
    "data = pd.merge(data, pop, on=\"Zone\").drop(columns = {'Année_y'}).rename(columns = {'Année_x' : 'Année', 'Unité_x' : 'Unité', 'Valeur_x' : 'Valeur', 'Description du Symbole_x' : 'Description du Symbole', 'Unité_y' : 'Unité_population', 'Valeur_y' : 'Population', 'Description du Symbole_y' : 'Description du Symbole_population'})"
   ]
  },
  {
   "cell_type": "code",
   "execution_count": 149,
   "id": "bd2122da",
   "metadata": {},
   "outputs": [],
   "source": [
    "data = pd.merge(data, pib, on=\"Zone\").rename(columns = {'Élément_x' : 'Élément', 'Élément_y' : 'Élément_PIB', 'Unité_x' : 'Unité', 'Description du Symbole_x' : 'Description du Symbole', 'Unité_y' : 'Unité_PIB', 'Description du Symbole_y' : 'Description du Symbole_PIB'})"
   ]
  },
  {
   "cell_type": "code",
   "execution_count": 150,
   "id": "238650ac",
   "metadata": {},
   "outputs": [],
   "source": [
    "data = pd.merge(data, import_volaille, on=\"Zone\").rename(columns = {'Unité_x' : 'Unité', 'Description du Symbole_x' : 'Description du Symbole', 'Unité_y' : 'Unité_import_volaille_fr', 'Description du Symbole_y' : 'Description du Symbole_import_volaille_fr'})"
   ]
  },
  {
   "cell_type": "code",
   "execution_count": 151,
   "id": "1b537c44",
   "metadata": {
    "scrolled": true
   },
   "outputs": [
    {
     "data": {
      "text/html": [
       "<div>\n",
       "<style scoped>\n",
       "    .dataframe tbody tr th:only-of-type {\n",
       "        vertical-align: middle;\n",
       "    }\n",
       "\n",
       "    .dataframe tbody tr th {\n",
       "        vertical-align: top;\n",
       "    }\n",
       "\n",
       "    .dataframe thead th {\n",
       "        text-align: right;\n",
       "    }\n",
       "</style>\n",
       "<table border=\"1\" class=\"dataframe\">\n",
       "  <thead>\n",
       "    <tr style=\"text-align: right;\">\n",
       "      <th></th>\n",
       "      <th>Zone</th>\n",
       "      <th>Élément</th>\n",
       "      <th>Produit</th>\n",
       "      <th>Année</th>\n",
       "      <th>Unité</th>\n",
       "      <th>Valeur</th>\n",
       "      <th>Description du Symbole</th>\n",
       "      <th>Unité_population</th>\n",
       "      <th>Population</th>\n",
       "      <th>Description du Symbole_population</th>\n",
       "      <th>Note</th>\n",
       "      <th>Élément_PIB</th>\n",
       "      <th>Unité_PIB</th>\n",
       "      <th>PIB</th>\n",
       "      <th>Description du Symbole_PIB</th>\n",
       "      <th>Unité_import_volaille_fr</th>\n",
       "      <th>Importation de volaille française en 2017</th>\n",
       "      <th>Description du Symbole_import_volaille_fr</th>\n",
       "    </tr>\n",
       "  </thead>\n",
       "  <tbody>\n",
       "    <tr>\n",
       "      <th>0</th>\n",
       "      <td>Afghanistan</td>\n",
       "      <td>Production</td>\n",
       "      <td>Blé et produits</td>\n",
       "      <td>2017</td>\n",
       "      <td>Milliers de tonnes</td>\n",
       "      <td>4281.0</td>\n",
       "      <td>Données standardisées</td>\n",
       "      <td>1000 personnes</td>\n",
       "      <td>36296.113</td>\n",
       "      <td>Sources internationales sûres</td>\n",
       "      <td>NaN</td>\n",
       "      <td>Valeur US $</td>\n",
       "      <td>millions</td>\n",
       "      <td>18896.352021</td>\n",
       "      <td>Sources internationales s?res</td>\n",
       "      <td>tonnes</td>\n",
       "      <td>NaN</td>\n",
       "      <td>Donn?e officielle</td>\n",
       "    </tr>\n",
       "    <tr>\n",
       "      <th>1</th>\n",
       "      <td>Afghanistan</td>\n",
       "      <td>Importations - Quantité</td>\n",
       "      <td>Blé et produits</td>\n",
       "      <td>2017</td>\n",
       "      <td>Milliers de tonnes</td>\n",
       "      <td>2302.0</td>\n",
       "      <td>Données standardisées</td>\n",
       "      <td>1000 personnes</td>\n",
       "      <td>36296.113</td>\n",
       "      <td>Sources internationales sûres</td>\n",
       "      <td>NaN</td>\n",
       "      <td>Valeur US $</td>\n",
       "      <td>millions</td>\n",
       "      <td>18896.352021</td>\n",
       "      <td>Sources internationales s?res</td>\n",
       "      <td>tonnes</td>\n",
       "      <td>NaN</td>\n",
       "      <td>Donn?e officielle</td>\n",
       "    </tr>\n",
       "    <tr>\n",
       "      <th>2</th>\n",
       "      <td>Afghanistan</td>\n",
       "      <td>Disponibilité intérieure</td>\n",
       "      <td>Blé et produits</td>\n",
       "      <td>2017</td>\n",
       "      <td>Milliers de tonnes</td>\n",
       "      <td>6701.0</td>\n",
       "      <td>Données standardisées</td>\n",
       "      <td>1000 personnes</td>\n",
       "      <td>36296.113</td>\n",
       "      <td>Sources internationales sûres</td>\n",
       "      <td>NaN</td>\n",
       "      <td>Valeur US $</td>\n",
       "      <td>millions</td>\n",
       "      <td>18896.352021</td>\n",
       "      <td>Sources internationales s?res</td>\n",
       "      <td>tonnes</td>\n",
       "      <td>NaN</td>\n",
       "      <td>Donn?e officielle</td>\n",
       "    </tr>\n",
       "  </tbody>\n",
       "</table>\n",
       "</div>"
      ],
      "text/plain": [
       "          Zone                   Élément          Produit  Année  \\\n",
       "0  Afghanistan                Production  Blé et produits   2017   \n",
       "1  Afghanistan   Importations - Quantité  Blé et produits   2017   \n",
       "2  Afghanistan  Disponibilité intérieure  Blé et produits   2017   \n",
       "\n",
       "                Unité  Valeur Description du Symbole Unité_population  \\\n",
       "0  Milliers de tonnes  4281.0  Données standardisées   1000 personnes   \n",
       "1  Milliers de tonnes  2302.0  Données standardisées   1000 personnes   \n",
       "2  Milliers de tonnes  6701.0  Données standardisées   1000 personnes   \n",
       "\n",
       "   Population Description du Symbole_population Note  Élément_PIB Unité_PIB  \\\n",
       "0   36296.113     Sources internationales sûres  NaN  Valeur US $  millions   \n",
       "1   36296.113     Sources internationales sûres  NaN  Valeur US $  millions   \n",
       "2   36296.113     Sources internationales sûres  NaN  Valeur US $  millions   \n",
       "\n",
       "            PIB     Description du Symbole_PIB Unité_import_volaille_fr  \\\n",
       "0  18896.352021  Sources internationales s?res                   tonnes   \n",
       "1  18896.352021  Sources internationales s?res                   tonnes   \n",
       "2  18896.352021  Sources internationales s?res                   tonnes   \n",
       "\n",
       "   Importation de volaille française en 2017  \\\n",
       "0                                        NaN   \n",
       "1                                        NaN   \n",
       "2                                        NaN   \n",
       "\n",
       "  Description du Symbole_import_volaille_fr  \n",
       "0                         Donn?e officielle  \n",
       "1                         Donn?e officielle  \n",
       "2                         Donn?e officielle  "
      ]
     },
     "execution_count": 151,
     "metadata": {},
     "output_type": "execute_result"
    }
   ],
   "source": [
    "df = data\n",
    "df.head(3)"
   ]
  },
  {
   "cell_type": "markdown",
   "id": "537138b8",
   "metadata": {},
   "source": [
    "On stocke les informations annexes sur les données dans un dataframe secondaire."
   ]
  },
  {
   "cell_type": "markdown",
   "id": "97df4d10",
   "metadata": {},
   "source": [
    "### Préparation des variables calculées"
   ]
  },
  {
   "cell_type": "markdown",
   "id": "a0034ddf",
   "metadata": {},
   "source": [
    "Nous allons avoir besoin de calculer un certain nombre de variables pour notre étude."
   ]
  },
  {
   "cell_type": "markdown",
   "id": "32f1520b",
   "metadata": {},
   "source": [
    "PIB/habitant :"
   ]
  },
  {
   "cell_type": "code",
   "execution_count": 152,
   "id": "dd30e0d9",
   "metadata": {},
   "outputs": [],
   "source": [
    "data['PIB'] = data['PIB']*1000000/(data['Population']*1000)\n",
    "data = data.rename(columns = {'PIB' : 'PIB/habitant'}).drop(columns = {'Unité_PIB'})"
   ]
  },
  {
   "cell_type": "markdown",
   "id": "0a45413b",
   "metadata": {},
   "source": [
    "Proportion de volaille produite par pays :"
   ]
  },
  {
   "cell_type": "code",
   "execution_count": 153,
   "id": "d57d3a08",
   "metadata": {},
   "outputs": [
    {
     "data": {
      "text/html": [
       "<div>\n",
       "<style scoped>\n",
       "    .dataframe tbody tr th:only-of-type {\n",
       "        vertical-align: middle;\n",
       "    }\n",
       "\n",
       "    .dataframe tbody tr th {\n",
       "        vertical-align: top;\n",
       "    }\n",
       "\n",
       "    .dataframe thead th {\n",
       "        text-align: right;\n",
       "    }\n",
       "</style>\n",
       "<table border=\"1\" class=\"dataframe\">\n",
       "  <thead>\n",
       "    <tr style=\"text-align: right;\">\n",
       "      <th></th>\n",
       "      <th>Zone</th>\n",
       "      <th>Élément</th>\n",
       "      <th>Produit</th>\n",
       "      <th>Année</th>\n",
       "      <th>Unité</th>\n",
       "      <th>Valeur</th>\n",
       "      <th>Description du Symbole</th>\n",
       "      <th>Unité_population</th>\n",
       "      <th>Population</th>\n",
       "      <th>Description du Symbole_population</th>\n",
       "      <th>Note</th>\n",
       "      <th>Élément_PIB</th>\n",
       "      <th>PIB/habitant</th>\n",
       "      <th>Description du Symbole_PIB</th>\n",
       "      <th>Unité_import_volaille_fr</th>\n",
       "      <th>Importation de volaille française en 2017</th>\n",
       "      <th>Description du Symbole_import_volaille_fr</th>\n",
       "      <th>Production/Disponibilité intérieure (volaille)</th>\n",
       "    </tr>\n",
       "  </thead>\n",
       "  <tbody>\n",
       "    <tr>\n",
       "      <th>0</th>\n",
       "      <td>Afghanistan</td>\n",
       "      <td>Production</td>\n",
       "      <td>Blé et produits</td>\n",
       "      <td>2017</td>\n",
       "      <td>Milliers de tonnes</td>\n",
       "      <td>4281.0</td>\n",
       "      <td>Données standardisées</td>\n",
       "      <td>1000 personnes</td>\n",
       "      <td>36296.113</td>\n",
       "      <td>Sources internationales sûres</td>\n",
       "      <td>NaN</td>\n",
       "      <td>Valeur US $</td>\n",
       "      <td>520.616409</td>\n",
       "      <td>Sources internationales s?res</td>\n",
       "      <td>tonnes</td>\n",
       "      <td>NaN</td>\n",
       "      <td>Donn?e officielle</td>\n",
       "      <td>49.122807</td>\n",
       "    </tr>\n",
       "    <tr>\n",
       "      <th>1</th>\n",
       "      <td>Afghanistan</td>\n",
       "      <td>Importations - Quantité</td>\n",
       "      <td>Blé et produits</td>\n",
       "      <td>2017</td>\n",
       "      <td>Milliers de tonnes</td>\n",
       "      <td>2302.0</td>\n",
       "      <td>Données standardisées</td>\n",
       "      <td>1000 personnes</td>\n",
       "      <td>36296.113</td>\n",
       "      <td>Sources internationales sûres</td>\n",
       "      <td>NaN</td>\n",
       "      <td>Valeur US $</td>\n",
       "      <td>520.616409</td>\n",
       "      <td>Sources internationales s?res</td>\n",
       "      <td>tonnes</td>\n",
       "      <td>NaN</td>\n",
       "      <td>Donn?e officielle</td>\n",
       "      <td>49.122807</td>\n",
       "    </tr>\n",
       "    <tr>\n",
       "      <th>2</th>\n",
       "      <td>Afghanistan</td>\n",
       "      <td>Disponibilité intérieure</td>\n",
       "      <td>Blé et produits</td>\n",
       "      <td>2017</td>\n",
       "      <td>Milliers de tonnes</td>\n",
       "      <td>6701.0</td>\n",
       "      <td>Données standardisées</td>\n",
       "      <td>1000 personnes</td>\n",
       "      <td>36296.113</td>\n",
       "      <td>Sources internationales sûres</td>\n",
       "      <td>NaN</td>\n",
       "      <td>Valeur US $</td>\n",
       "      <td>520.616409</td>\n",
       "      <td>Sources internationales s?res</td>\n",
       "      <td>tonnes</td>\n",
       "      <td>NaN</td>\n",
       "      <td>Donn?e officielle</td>\n",
       "      <td>49.122807</td>\n",
       "    </tr>\n",
       "  </tbody>\n",
       "</table>\n",
       "</div>"
      ],
      "text/plain": [
       "          Zone                   Élément          Produit  Année  \\\n",
       "0  Afghanistan                Production  Blé et produits   2017   \n",
       "1  Afghanistan   Importations - Quantité  Blé et produits   2017   \n",
       "2  Afghanistan  Disponibilité intérieure  Blé et produits   2017   \n",
       "\n",
       "                Unité  Valeur Description du Symbole Unité_population  \\\n",
       "0  Milliers de tonnes  4281.0  Données standardisées   1000 personnes   \n",
       "1  Milliers de tonnes  2302.0  Données standardisées   1000 personnes   \n",
       "2  Milliers de tonnes  6701.0  Données standardisées   1000 personnes   \n",
       "\n",
       "   Population Description du Symbole_population Note  Élément_PIB  \\\n",
       "0   36296.113     Sources internationales sûres  NaN  Valeur US $   \n",
       "1   36296.113     Sources internationales sûres  NaN  Valeur US $   \n",
       "2   36296.113     Sources internationales sûres  NaN  Valeur US $   \n",
       "\n",
       "   PIB/habitant     Description du Symbole_PIB Unité_import_volaille_fr  \\\n",
       "0    520.616409  Sources internationales s?res                   tonnes   \n",
       "1    520.616409  Sources internationales s?res                   tonnes   \n",
       "2    520.616409  Sources internationales s?res                   tonnes   \n",
       "\n",
       "   Importation de volaille française en 2017  \\\n",
       "0                                        NaN   \n",
       "1                                        NaN   \n",
       "2                                        NaN   \n",
       "\n",
       "  Description du Symbole_import_volaille_fr  \\\n",
       "0                         Donn?e officielle   \n",
       "1                         Donn?e officielle   \n",
       "2                         Donn?e officielle   \n",
       "\n",
       "   Production/Disponibilité intérieure (volaille)  \n",
       "0                                       49.122807  \n",
       "1                                       49.122807  \n",
       "2                                       49.122807  "
      ]
     },
     "execution_count": 153,
     "metadata": {},
     "output_type": "execute_result"
    }
   ],
   "source": [
    "tmp = data[(data['Produit'] == 'Viande de Volailles') & (data['Élément'].isin(['Production', 'Disponibilité intérieure']))]\n",
    "a = tmp[tmp['Élément'] == 'Production'][['Zone', 'Valeur']]\n",
    "b = tmp[tmp['Élément'] == 'Disponibilité intérieure'][['Zone', 'Valeur']]\n",
    "tmp = pd.merge(a, b, on=\"Zone\").rename(columns = {'Valeur_x' : 'Production (milliers de tonnes)', 'Valeur_y' : 'Disponibilité intérieure (milliers de tonnes)'})\n",
    "tmp['Production/Disponibilité intérieure (volaille)'] = tmp['Production (milliers de tonnes)']*100 / (tmp['Disponibilité intérieure (milliers de tonnes)'])\n",
    "tmp = tmp[['Zone', 'Production/Disponibilité intérieure (volaille)']]\n",
    "data = pd.merge(data, tmp, on=\"Zone\")\n",
    "data.head(3)"
   ]
  },
  {
   "cell_type": "markdown",
   "id": "e707de9b",
   "metadata": {},
   "source": [
    "Proportion de volaille importée dans chaque pays :"
   ]
  },
  {
   "cell_type": "code",
   "execution_count": 154,
   "id": "2b6ff5c9",
   "metadata": {},
   "outputs": [
    {
     "data": {
      "text/html": [
       "<div>\n",
       "<style scoped>\n",
       "    .dataframe tbody tr th:only-of-type {\n",
       "        vertical-align: middle;\n",
       "    }\n",
       "\n",
       "    .dataframe tbody tr th {\n",
       "        vertical-align: top;\n",
       "    }\n",
       "\n",
       "    .dataframe thead th {\n",
       "        text-align: right;\n",
       "    }\n",
       "</style>\n",
       "<table border=\"1\" class=\"dataframe\">\n",
       "  <thead>\n",
       "    <tr style=\"text-align: right;\">\n",
       "      <th></th>\n",
       "      <th>Zone</th>\n",
       "      <th>Élément</th>\n",
       "      <th>Produit</th>\n",
       "      <th>Année</th>\n",
       "      <th>Unité</th>\n",
       "      <th>Valeur</th>\n",
       "      <th>Description du Symbole</th>\n",
       "      <th>Unité_population</th>\n",
       "      <th>Population</th>\n",
       "      <th>Description du Symbole_population</th>\n",
       "      <th>Note</th>\n",
       "      <th>Élément_PIB</th>\n",
       "      <th>PIB/habitant</th>\n",
       "      <th>Description du Symbole_PIB</th>\n",
       "      <th>Unité_import_volaille_fr</th>\n",
       "      <th>Importation de volaille française en 2017</th>\n",
       "      <th>Description du Symbole_import_volaille_fr</th>\n",
       "      <th>Production/Disponibilité intérieure (volaille)</th>\n",
       "      <th>Importations/Disponibilité intérieure (volaille)</th>\n",
       "    </tr>\n",
       "  </thead>\n",
       "  <tbody>\n",
       "    <tr>\n",
       "      <th>0</th>\n",
       "      <td>Afghanistan</td>\n",
       "      <td>Production</td>\n",
       "      <td>Blé et produits</td>\n",
       "      <td>2017</td>\n",
       "      <td>Milliers de tonnes</td>\n",
       "      <td>4281.0</td>\n",
       "      <td>Données standardisées</td>\n",
       "      <td>1000 personnes</td>\n",
       "      <td>36296.113</td>\n",
       "      <td>Sources internationales sûres</td>\n",
       "      <td>NaN</td>\n",
       "      <td>Valeur US $</td>\n",
       "      <td>520.616409</td>\n",
       "      <td>Sources internationales s?res</td>\n",
       "      <td>tonnes</td>\n",
       "      <td>NaN</td>\n",
       "      <td>Donn?e officielle</td>\n",
       "      <td>49.122807</td>\n",
       "      <td>50.877193</td>\n",
       "    </tr>\n",
       "    <tr>\n",
       "      <th>1</th>\n",
       "      <td>Afghanistan</td>\n",
       "      <td>Importations - Quantité</td>\n",
       "      <td>Blé et produits</td>\n",
       "      <td>2017</td>\n",
       "      <td>Milliers de tonnes</td>\n",
       "      <td>2302.0</td>\n",
       "      <td>Données standardisées</td>\n",
       "      <td>1000 personnes</td>\n",
       "      <td>36296.113</td>\n",
       "      <td>Sources internationales sûres</td>\n",
       "      <td>NaN</td>\n",
       "      <td>Valeur US $</td>\n",
       "      <td>520.616409</td>\n",
       "      <td>Sources internationales s?res</td>\n",
       "      <td>tonnes</td>\n",
       "      <td>NaN</td>\n",
       "      <td>Donn?e officielle</td>\n",
       "      <td>49.122807</td>\n",
       "      <td>50.877193</td>\n",
       "    </tr>\n",
       "    <tr>\n",
       "      <th>2</th>\n",
       "      <td>Afghanistan</td>\n",
       "      <td>Disponibilité intérieure</td>\n",
       "      <td>Blé et produits</td>\n",
       "      <td>2017</td>\n",
       "      <td>Milliers de tonnes</td>\n",
       "      <td>6701.0</td>\n",
       "      <td>Données standardisées</td>\n",
       "      <td>1000 personnes</td>\n",
       "      <td>36296.113</td>\n",
       "      <td>Sources internationales sûres</td>\n",
       "      <td>NaN</td>\n",
       "      <td>Valeur US $</td>\n",
       "      <td>520.616409</td>\n",
       "      <td>Sources internationales s?res</td>\n",
       "      <td>tonnes</td>\n",
       "      <td>NaN</td>\n",
       "      <td>Donn?e officielle</td>\n",
       "      <td>49.122807</td>\n",
       "      <td>50.877193</td>\n",
       "    </tr>\n",
       "  </tbody>\n",
       "</table>\n",
       "</div>"
      ],
      "text/plain": [
       "          Zone                   Élément          Produit  Année  \\\n",
       "0  Afghanistan                Production  Blé et produits   2017   \n",
       "1  Afghanistan   Importations - Quantité  Blé et produits   2017   \n",
       "2  Afghanistan  Disponibilité intérieure  Blé et produits   2017   \n",
       "\n",
       "                Unité  Valeur Description du Symbole Unité_population  \\\n",
       "0  Milliers de tonnes  4281.0  Données standardisées   1000 personnes   \n",
       "1  Milliers de tonnes  2302.0  Données standardisées   1000 personnes   \n",
       "2  Milliers de tonnes  6701.0  Données standardisées   1000 personnes   \n",
       "\n",
       "   Population Description du Symbole_population Note  Élément_PIB  \\\n",
       "0   36296.113     Sources internationales sûres  NaN  Valeur US $   \n",
       "1   36296.113     Sources internationales sûres  NaN  Valeur US $   \n",
       "2   36296.113     Sources internationales sûres  NaN  Valeur US $   \n",
       "\n",
       "   PIB/habitant     Description du Symbole_PIB Unité_import_volaille_fr  \\\n",
       "0    520.616409  Sources internationales s?res                   tonnes   \n",
       "1    520.616409  Sources internationales s?res                   tonnes   \n",
       "2    520.616409  Sources internationales s?res                   tonnes   \n",
       "\n",
       "   Importation de volaille française en 2017  \\\n",
       "0                                        NaN   \n",
       "1                                        NaN   \n",
       "2                                        NaN   \n",
       "\n",
       "  Description du Symbole_import_volaille_fr  \\\n",
       "0                         Donn?e officielle   \n",
       "1                         Donn?e officielle   \n",
       "2                         Donn?e officielle   \n",
       "\n",
       "   Production/Disponibilité intérieure (volaille)  \\\n",
       "0                                       49.122807   \n",
       "1                                       49.122807   \n",
       "2                                       49.122807   \n",
       "\n",
       "   Importations/Disponibilité intérieure (volaille)  \n",
       "0                                         50.877193  \n",
       "1                                         50.877193  \n",
       "2                                         50.877193  "
      ]
     },
     "execution_count": 154,
     "metadata": {},
     "output_type": "execute_result"
    }
   ],
   "source": [
    "tmp = data[(data['Produit'] == 'Viande de Volailles') & (data['Élément'].isin(['Importations - Quantité', 'Disponibilité intérieure']))]\n",
    "a = tmp[tmp['Élément'] == 'Importations - Quantité'][['Zone', 'Valeur']]\n",
    "b = tmp[tmp['Élément'] == 'Disponibilité intérieure'][['Zone', 'Valeur']]\n",
    "tmp = pd.merge(a, b, on=\"Zone\").rename(columns = {'Valeur_x' : 'Importations (milliers de tonnes)', 'Valeur_y' : 'Disponibilité intérieure (milliers de tonnes)'})\n",
    "tmp['Importations/Disponibilité intérieure (volaille)'] = tmp['Importations (milliers de tonnes)']*100 / (tmp['Disponibilité intérieure (milliers de tonnes)'])\n",
    "tmp = tmp[['Zone', 'Importations/Disponibilité intérieure (volaille)']]\n",
    "data = pd.merge(data, tmp, on=\"Zone\")\n",
    "data.head(3)"
   ]
  },
  {
   "cell_type": "markdown",
   "id": "e6bdadf9",
   "metadata": {},
   "source": [
    "Proportion d'importation française par rapport à l'importation totale :"
   ]
  },
  {
   "cell_type": "code",
   "execution_count": 155,
   "id": "3fba3a4e",
   "metadata": {},
   "outputs": [
    {
     "data": {
      "text/html": [
       "<div>\n",
       "<style scoped>\n",
       "    .dataframe tbody tr th:only-of-type {\n",
       "        vertical-align: middle;\n",
       "    }\n",
       "\n",
       "    .dataframe tbody tr th {\n",
       "        vertical-align: top;\n",
       "    }\n",
       "\n",
       "    .dataframe thead th {\n",
       "        text-align: right;\n",
       "    }\n",
       "</style>\n",
       "<table border=\"1\" class=\"dataframe\">\n",
       "  <thead>\n",
       "    <tr style=\"text-align: right;\">\n",
       "      <th></th>\n",
       "      <th>Zone</th>\n",
       "      <th>Élément</th>\n",
       "      <th>Produit</th>\n",
       "      <th>Année</th>\n",
       "      <th>Unité</th>\n",
       "      <th>Valeur</th>\n",
       "      <th>Description du Symbole</th>\n",
       "      <th>Unité_population</th>\n",
       "      <th>Population</th>\n",
       "      <th>Description du Symbole_population</th>\n",
       "      <th>Note</th>\n",
       "      <th>Élément_PIB</th>\n",
       "      <th>PIB/habitant</th>\n",
       "      <th>Description du Symbole_PIB</th>\n",
       "      <th>Production/Disponibilité intérieure (volaille)</th>\n",
       "      <th>Importations/Disponibilité intérieure (volaille)</th>\n",
       "      <th>Proportion importation française (volaille)</th>\n",
       "    </tr>\n",
       "  </thead>\n",
       "  <tbody>\n",
       "    <tr>\n",
       "      <th>0</th>\n",
       "      <td>Afghanistan</td>\n",
       "      <td>Production</td>\n",
       "      <td>Blé et produits</td>\n",
       "      <td>2017</td>\n",
       "      <td>Milliers de tonnes</td>\n",
       "      <td>4281.0</td>\n",
       "      <td>Données standardisées</td>\n",
       "      <td>1000 personnes</td>\n",
       "      <td>36296.113</td>\n",
       "      <td>Sources internationales sûres</td>\n",
       "      <td>NaN</td>\n",
       "      <td>Valeur US $</td>\n",
       "      <td>520.616409</td>\n",
       "      <td>Sources internationales s?res</td>\n",
       "      <td>49.122807</td>\n",
       "      <td>50.877193</td>\n",
       "      <td>0.0</td>\n",
       "    </tr>\n",
       "    <tr>\n",
       "      <th>1</th>\n",
       "      <td>Afghanistan</td>\n",
       "      <td>Importations - Quantité</td>\n",
       "      <td>Blé et produits</td>\n",
       "      <td>2017</td>\n",
       "      <td>Milliers de tonnes</td>\n",
       "      <td>2302.0</td>\n",
       "      <td>Données standardisées</td>\n",
       "      <td>1000 personnes</td>\n",
       "      <td>36296.113</td>\n",
       "      <td>Sources internationales sûres</td>\n",
       "      <td>NaN</td>\n",
       "      <td>Valeur US $</td>\n",
       "      <td>520.616409</td>\n",
       "      <td>Sources internationales s?res</td>\n",
       "      <td>49.122807</td>\n",
       "      <td>50.877193</td>\n",
       "      <td>0.0</td>\n",
       "    </tr>\n",
       "    <tr>\n",
       "      <th>2</th>\n",
       "      <td>Afghanistan</td>\n",
       "      <td>Disponibilité intérieure</td>\n",
       "      <td>Blé et produits</td>\n",
       "      <td>2017</td>\n",
       "      <td>Milliers de tonnes</td>\n",
       "      <td>6701.0</td>\n",
       "      <td>Données standardisées</td>\n",
       "      <td>1000 personnes</td>\n",
       "      <td>36296.113</td>\n",
       "      <td>Sources internationales sûres</td>\n",
       "      <td>NaN</td>\n",
       "      <td>Valeur US $</td>\n",
       "      <td>520.616409</td>\n",
       "      <td>Sources internationales s?res</td>\n",
       "      <td>49.122807</td>\n",
       "      <td>50.877193</td>\n",
       "      <td>0.0</td>\n",
       "    </tr>\n",
       "  </tbody>\n",
       "</table>\n",
       "</div>"
      ],
      "text/plain": [
       "          Zone                   Élément          Produit  Année  \\\n",
       "0  Afghanistan                Production  Blé et produits   2017   \n",
       "1  Afghanistan   Importations - Quantité  Blé et produits   2017   \n",
       "2  Afghanistan  Disponibilité intérieure  Blé et produits   2017   \n",
       "\n",
       "                Unité  Valeur Description du Symbole Unité_population  \\\n",
       "0  Milliers de tonnes  4281.0  Données standardisées   1000 personnes   \n",
       "1  Milliers de tonnes  2302.0  Données standardisées   1000 personnes   \n",
       "2  Milliers de tonnes  6701.0  Données standardisées   1000 personnes   \n",
       "\n",
       "   Population Description du Symbole_population Note  Élément_PIB  \\\n",
       "0   36296.113     Sources internationales sûres  NaN  Valeur US $   \n",
       "1   36296.113     Sources internationales sûres  NaN  Valeur US $   \n",
       "2   36296.113     Sources internationales sûres  NaN  Valeur US $   \n",
       "\n",
       "   PIB/habitant     Description du Symbole_PIB  \\\n",
       "0    520.616409  Sources internationales s?res   \n",
       "1    520.616409  Sources internationales s?res   \n",
       "2    520.616409  Sources internationales s?res   \n",
       "\n",
       "   Production/Disponibilité intérieure (volaille)  \\\n",
       "0                                       49.122807   \n",
       "1                                       49.122807   \n",
       "2                                       49.122807   \n",
       "\n",
       "   Importations/Disponibilité intérieure (volaille)  \\\n",
       "0                                         50.877193   \n",
       "1                                         50.877193   \n",
       "2                                         50.877193   \n",
       "\n",
       "   Proportion importation française (volaille)  \n",
       "0                                          0.0  \n",
       "1                                          0.0  \n",
       "2                                          0.0  "
      ]
     },
     "execution_count": 155,
     "metadata": {},
     "output_type": "execute_result"
    }
   ],
   "source": [
    "tmp = data[(data['Élément'] == 'Importations - Quantité') & (data['Produit'] == 'Viande de Volailles')][['Zone', 'Valeur', 'Importation de volaille française en 2017']]\n",
    "tmp['Valeur'] = tmp['Valeur']*1000\n",
    "tmp = tmp.rename(columns = {'Valeur' : 'Importations (volaille)'})\n",
    "tmp['Proportion importation française (volaille)'] = tmp['Importation de volaille française en 2017']*100 / (tmp['Importations (volaille)'])\n",
    "tmp['Proportion importation française (volaille)'].fillna(0, inplace=True)\n",
    "tmp['Proportion importation française (volaille)'].replace(np.inf, 0, inplace=True)\n",
    "tmp = tmp[['Zone', 'Proportion importation française (volaille)']]\n",
    "data = pd.merge(data, tmp, on=\"Zone\")\n",
    "data = data.drop(columns = {'Unité_import_volaille_fr', 'Importation de volaille française en 2017', 'Description du Symbole_import_volaille_fr'})\n",
    "data.head(3)"
   ]
  },
  {
   "cell_type": "markdown",
   "id": "3bcd9f47",
   "metadata": {},
   "source": [
    "Proportion de consommation de viande dans le pays :"
   ]
  },
  {
   "cell_type": "code",
   "execution_count": 156,
   "id": "bd8fe014",
   "metadata": {},
   "outputs": [
    {
     "data": {
      "text/html": [
       "<div>\n",
       "<style scoped>\n",
       "    .dataframe tbody tr th:only-of-type {\n",
       "        vertical-align: middle;\n",
       "    }\n",
       "\n",
       "    .dataframe tbody tr th {\n",
       "        vertical-align: top;\n",
       "    }\n",
       "\n",
       "    .dataframe thead th {\n",
       "        text-align: right;\n",
       "    }\n",
       "</style>\n",
       "<table border=\"1\" class=\"dataframe\">\n",
       "  <thead>\n",
       "    <tr style=\"text-align: right;\">\n",
       "      <th></th>\n",
       "      <th>Zone</th>\n",
       "      <th>Élément</th>\n",
       "      <th>Produit</th>\n",
       "      <th>Année</th>\n",
       "      <th>Unité</th>\n",
       "      <th>Valeur</th>\n",
       "      <th>Description du Symbole</th>\n",
       "      <th>Unité_population</th>\n",
       "      <th>Population</th>\n",
       "      <th>Description du Symbole_population</th>\n",
       "      <th>Note</th>\n",
       "      <th>Élément_PIB</th>\n",
       "      <th>PIB/habitant</th>\n",
       "      <th>Description du Symbole_PIB</th>\n",
       "      <th>Production/Disponibilité intérieure (volaille)</th>\n",
       "      <th>Importations/Disponibilité intérieure (volaille)</th>\n",
       "      <th>Proportion importation française (volaille)</th>\n",
       "      <th>Proportion de conso viande</th>\n",
       "    </tr>\n",
       "  </thead>\n",
       "  <tbody>\n",
       "    <tr>\n",
       "      <th>0</th>\n",
       "      <td>Afghanistan</td>\n",
       "      <td>Production</td>\n",
       "      <td>Blé et produits</td>\n",
       "      <td>2017</td>\n",
       "      <td>Milliers de tonnes</td>\n",
       "      <td>4281.0</td>\n",
       "      <td>Données standardisées</td>\n",
       "      <td>1000 personnes</td>\n",
       "      <td>36296.113</td>\n",
       "      <td>Sources internationales sûres</td>\n",
       "      <td>NaN</td>\n",
       "      <td>Valeur US $</td>\n",
       "      <td>520.616409</td>\n",
       "      <td>Sources internationales s?res</td>\n",
       "      <td>49.122807</td>\n",
       "      <td>50.877193</td>\n",
       "      <td>0.0</td>\n",
       "      <td>2.405922</td>\n",
       "    </tr>\n",
       "    <tr>\n",
       "      <th>1</th>\n",
       "      <td>Afghanistan</td>\n",
       "      <td>Importations - Quantité</td>\n",
       "      <td>Blé et produits</td>\n",
       "      <td>2017</td>\n",
       "      <td>Milliers de tonnes</td>\n",
       "      <td>2302.0</td>\n",
       "      <td>Données standardisées</td>\n",
       "      <td>1000 personnes</td>\n",
       "      <td>36296.113</td>\n",
       "      <td>Sources internationales sûres</td>\n",
       "      <td>NaN</td>\n",
       "      <td>Valeur US $</td>\n",
       "      <td>520.616409</td>\n",
       "      <td>Sources internationales s?res</td>\n",
       "      <td>49.122807</td>\n",
       "      <td>50.877193</td>\n",
       "      <td>0.0</td>\n",
       "      <td>2.405922</td>\n",
       "    </tr>\n",
       "    <tr>\n",
       "      <th>2</th>\n",
       "      <td>Afghanistan</td>\n",
       "      <td>Disponibilité intérieure</td>\n",
       "      <td>Blé et produits</td>\n",
       "      <td>2017</td>\n",
       "      <td>Milliers de tonnes</td>\n",
       "      <td>6701.0</td>\n",
       "      <td>Données standardisées</td>\n",
       "      <td>1000 personnes</td>\n",
       "      <td>36296.113</td>\n",
       "      <td>Sources internationales sûres</td>\n",
       "      <td>NaN</td>\n",
       "      <td>Valeur US $</td>\n",
       "      <td>520.616409</td>\n",
       "      <td>Sources internationales s?res</td>\n",
       "      <td>49.122807</td>\n",
       "      <td>50.877193</td>\n",
       "      <td>0.0</td>\n",
       "      <td>2.405922</td>\n",
       "    </tr>\n",
       "  </tbody>\n",
       "</table>\n",
       "</div>"
      ],
      "text/plain": [
       "          Zone                   Élément          Produit  Année  \\\n",
       "0  Afghanistan                Production  Blé et produits   2017   \n",
       "1  Afghanistan   Importations - Quantité  Blé et produits   2017   \n",
       "2  Afghanistan  Disponibilité intérieure  Blé et produits   2017   \n",
       "\n",
       "                Unité  Valeur Description du Symbole Unité_population  \\\n",
       "0  Milliers de tonnes  4281.0  Données standardisées   1000 personnes   \n",
       "1  Milliers de tonnes  2302.0  Données standardisées   1000 personnes   \n",
       "2  Milliers de tonnes  6701.0  Données standardisées   1000 personnes   \n",
       "\n",
       "   Population Description du Symbole_population Note  Élément_PIB  \\\n",
       "0   36296.113     Sources internationales sûres  NaN  Valeur US $   \n",
       "1   36296.113     Sources internationales sûres  NaN  Valeur US $   \n",
       "2   36296.113     Sources internationales sûres  NaN  Valeur US $   \n",
       "\n",
       "   PIB/habitant     Description du Symbole_PIB  \\\n",
       "0    520.616409  Sources internationales s?res   \n",
       "1    520.616409  Sources internationales s?res   \n",
       "2    520.616409  Sources internationales s?res   \n",
       "\n",
       "   Production/Disponibilité intérieure (volaille)  \\\n",
       "0                                       49.122807   \n",
       "1                                       49.122807   \n",
       "2                                       49.122807   \n",
       "\n",
       "   Importations/Disponibilité intérieure (volaille)  \\\n",
       "0                                         50.877193   \n",
       "1                                         50.877193   \n",
       "2                                         50.877193   \n",
       "\n",
       "   Proportion importation française (volaille)  Proportion de conso viande  \n",
       "0                                          0.0                    2.405922  \n",
       "1                                          0.0                    2.405922  \n",
       "2                                          0.0                    2.405922  "
      ]
     },
     "execution_count": 156,
     "metadata": {},
     "output_type": "execute_result"
    }
   ],
   "source": [
    "a = data[(data['Élément'] == 'Nourriture') & (data['Produit'].isin(['Viande de Bovins', \"Viande d'Ovins/Caprins\", 'Viande de Suides', 'Viande de Volailles', 'Viande, Autre', 'Viande de Anim Aquatiq']))]\n",
    "a = a.groupby(\"Zone\")[['Zone', 'Valeur']].agg(np.sum)\n",
    "b = data[data['Élément'] == 'Nourriture'].groupby('Zone')['Valeur'].agg(np.sum)\n",
    "tmp = pd.merge(a, b, on=\"Zone\").rename(columns = {'Valeur_x' : 'Conso. viande', 'Valeur_y' : 'Conso. totale'}).reset_index()\n",
    "tmp['Proportion de conso viande'] = tmp['Conso. viande']*100 / (tmp['Conso. totale'])\n",
    "tmp = tmp[['Zone', 'Proportion de conso viande']]\n",
    "data = pd.merge(data, tmp, on=\"Zone\")\n",
    "data.head(3)"
   ]
  },
  {
   "cell_type": "markdown",
   "id": "9fa7edf1",
   "metadata": {},
   "source": [
    "Proportion de consommation de volaille par rapport aux autres viandes :"
   ]
  },
  {
   "cell_type": "code",
   "execution_count": 157,
   "id": "82f11ae4",
   "metadata": {},
   "outputs": [
    {
     "data": {
      "text/html": [
       "<div>\n",
       "<style scoped>\n",
       "    .dataframe tbody tr th:only-of-type {\n",
       "        vertical-align: middle;\n",
       "    }\n",
       "\n",
       "    .dataframe tbody tr th {\n",
       "        vertical-align: top;\n",
       "    }\n",
       "\n",
       "    .dataframe thead th {\n",
       "        text-align: right;\n",
       "    }\n",
       "</style>\n",
       "<table border=\"1\" class=\"dataframe\">\n",
       "  <thead>\n",
       "    <tr style=\"text-align: right;\">\n",
       "      <th></th>\n",
       "      <th>Zone</th>\n",
       "      <th>Élément</th>\n",
       "      <th>Produit</th>\n",
       "      <th>Année</th>\n",
       "      <th>Unité</th>\n",
       "      <th>Valeur</th>\n",
       "      <th>Description du Symbole</th>\n",
       "      <th>Unité_population</th>\n",
       "      <th>Population</th>\n",
       "      <th>Description du Symbole_population</th>\n",
       "      <th>Note</th>\n",
       "      <th>Élément_PIB</th>\n",
       "      <th>PIB/habitant</th>\n",
       "      <th>Description du Symbole_PIB</th>\n",
       "      <th>Production/Disponibilité intérieure (volaille)</th>\n",
       "      <th>Importations/Disponibilité intérieure (volaille)</th>\n",
       "      <th>Proportion importation française (volaille)</th>\n",
       "      <th>Proportion de conso viande</th>\n",
       "      <th>Proportion de conso volaille</th>\n",
       "    </tr>\n",
       "  </thead>\n",
       "  <tbody>\n",
       "    <tr>\n",
       "      <th>0</th>\n",
       "      <td>Afghanistan</td>\n",
       "      <td>Production</td>\n",
       "      <td>Blé et produits</td>\n",
       "      <td>2017</td>\n",
       "      <td>Milliers de tonnes</td>\n",
       "      <td>4281.0</td>\n",
       "      <td>Données standardisées</td>\n",
       "      <td>1000 personnes</td>\n",
       "      <td>36296.113</td>\n",
       "      <td>Sources internationales sûres</td>\n",
       "      <td>NaN</td>\n",
       "      <td>Valeur US $</td>\n",
       "      <td>520.616409</td>\n",
       "      <td>Sources internationales s?res</td>\n",
       "      <td>49.122807</td>\n",
       "      <td>50.877193</td>\n",
       "      <td>0.0</td>\n",
       "      <td>2.405922</td>\n",
       "      <td>17.628205</td>\n",
       "    </tr>\n",
       "    <tr>\n",
       "      <th>1</th>\n",
       "      <td>Afghanistan</td>\n",
       "      <td>Importations - Quantité</td>\n",
       "      <td>Blé et produits</td>\n",
       "      <td>2017</td>\n",
       "      <td>Milliers de tonnes</td>\n",
       "      <td>2302.0</td>\n",
       "      <td>Données standardisées</td>\n",
       "      <td>1000 personnes</td>\n",
       "      <td>36296.113</td>\n",
       "      <td>Sources internationales sûres</td>\n",
       "      <td>NaN</td>\n",
       "      <td>Valeur US $</td>\n",
       "      <td>520.616409</td>\n",
       "      <td>Sources internationales s?res</td>\n",
       "      <td>49.122807</td>\n",
       "      <td>50.877193</td>\n",
       "      <td>0.0</td>\n",
       "      <td>2.405922</td>\n",
       "      <td>17.628205</td>\n",
       "    </tr>\n",
       "    <tr>\n",
       "      <th>2</th>\n",
       "      <td>Afghanistan</td>\n",
       "      <td>Disponibilité intérieure</td>\n",
       "      <td>Blé et produits</td>\n",
       "      <td>2017</td>\n",
       "      <td>Milliers de tonnes</td>\n",
       "      <td>6701.0</td>\n",
       "      <td>Données standardisées</td>\n",
       "      <td>1000 personnes</td>\n",
       "      <td>36296.113</td>\n",
       "      <td>Sources internationales sûres</td>\n",
       "      <td>NaN</td>\n",
       "      <td>Valeur US $</td>\n",
       "      <td>520.616409</td>\n",
       "      <td>Sources internationales s?res</td>\n",
       "      <td>49.122807</td>\n",
       "      <td>50.877193</td>\n",
       "      <td>0.0</td>\n",
       "      <td>2.405922</td>\n",
       "      <td>17.628205</td>\n",
       "    </tr>\n",
       "  </tbody>\n",
       "</table>\n",
       "</div>"
      ],
      "text/plain": [
       "          Zone                   Élément          Produit  Année  \\\n",
       "0  Afghanistan                Production  Blé et produits   2017   \n",
       "1  Afghanistan   Importations - Quantité  Blé et produits   2017   \n",
       "2  Afghanistan  Disponibilité intérieure  Blé et produits   2017   \n",
       "\n",
       "                Unité  Valeur Description du Symbole Unité_population  \\\n",
       "0  Milliers de tonnes  4281.0  Données standardisées   1000 personnes   \n",
       "1  Milliers de tonnes  2302.0  Données standardisées   1000 personnes   \n",
       "2  Milliers de tonnes  6701.0  Données standardisées   1000 personnes   \n",
       "\n",
       "   Population Description du Symbole_population Note  Élément_PIB  \\\n",
       "0   36296.113     Sources internationales sûres  NaN  Valeur US $   \n",
       "1   36296.113     Sources internationales sûres  NaN  Valeur US $   \n",
       "2   36296.113     Sources internationales sûres  NaN  Valeur US $   \n",
       "\n",
       "   PIB/habitant     Description du Symbole_PIB  \\\n",
       "0    520.616409  Sources internationales s?res   \n",
       "1    520.616409  Sources internationales s?res   \n",
       "2    520.616409  Sources internationales s?res   \n",
       "\n",
       "   Production/Disponibilité intérieure (volaille)  \\\n",
       "0                                       49.122807   \n",
       "1                                       49.122807   \n",
       "2                                       49.122807   \n",
       "\n",
       "   Importations/Disponibilité intérieure (volaille)  \\\n",
       "0                                         50.877193   \n",
       "1                                         50.877193   \n",
       "2                                         50.877193   \n",
       "\n",
       "   Proportion importation française (volaille)  Proportion de conso viande  \\\n",
       "0                                          0.0                    2.405922   \n",
       "1                                          0.0                    2.405922   \n",
       "2                                          0.0                    2.405922   \n",
       "\n",
       "   Proportion de conso volaille  \n",
       "0                     17.628205  \n",
       "1                     17.628205  \n",
       "2                     17.628205  "
      ]
     },
     "execution_count": 157,
     "metadata": {},
     "output_type": "execute_result"
    }
   ],
   "source": [
    "a = data[(data['Élément'] == 'Nourriture') & (data['Produit'] == 'Viande de Volailles')][['Zone', 'Valeur']]\n",
    "b = data[(data['Élément'] == 'Nourriture') & (data['Produit'].isin(['Viande de Bovins', \"Viande d'Ovins/Caprins\", 'Viande de Suides', 'Viande de Volailles', 'Viande, Autre', 'Viande de Anim Aquatiq']))]\n",
    "b = b.groupby(\"Zone\")[['Zone', 'Valeur']].agg(np.sum).reset_index()\n",
    "tmp = pd.merge(a, b, on=\"Zone\").rename(columns = {'Valeur_x' : 'Conso. volaille', 'Valeur_y' : 'Conso. viande'})\n",
    "tmp['Proportion de conso volaille'] = tmp['Conso. volaille']*100 / (tmp['Conso. viande'])\n",
    "tmp = tmp[['Zone', 'Proportion de conso volaille']]\n",
    "data = pd.merge(data, tmp, on=\"Zone\")\n",
    "data.head(3)"
   ]
  },
  {
   "cell_type": "markdown",
   "id": "8f71ddc8",
   "metadata": {},
   "source": [
    "Mise en colonne de la dispo alimentaire en quantité de volaille :"
   ]
  },
  {
   "cell_type": "code",
   "execution_count": 158,
   "id": "2a4d3dac",
   "metadata": {},
   "outputs": [],
   "source": [
    "tmp = data[(data['Élément'] == 'Disponibilité alimentaire en quantité (kg/personne/an)') & (data['Produit'] == 'Viande de Volailles')]\n",
    "tmp = tmp[['Zone', 'Valeur']].rename(columns = {'Valeur' : 'Disponibilité alimentaire en quantité de volaille (kg/personne/an)'})\n",
    "data = pd.merge(data, tmp, on=\"Zone\")"
   ]
  },
  {
   "cell_type": "code",
   "execution_count": 159,
   "id": "5dd369a2",
   "metadata": {},
   "outputs": [
    {
     "data": {
      "text/html": [
       "<div>\n",
       "<style scoped>\n",
       "    .dataframe tbody tr th:only-of-type {\n",
       "        vertical-align: middle;\n",
       "    }\n",
       "\n",
       "    .dataframe tbody tr th {\n",
       "        vertical-align: top;\n",
       "    }\n",
       "\n",
       "    .dataframe thead th {\n",
       "        text-align: right;\n",
       "    }\n",
       "</style>\n",
       "<table border=\"1\" class=\"dataframe\">\n",
       "  <thead>\n",
       "    <tr style=\"text-align: right;\">\n",
       "      <th></th>\n",
       "      <th>Zone</th>\n",
       "      <th>PIB/habitant (US$)</th>\n",
       "      <th>Population (1000 habitants)</th>\n",
       "      <th>Disponibilité alimentaire en quantité de volaille (kg/personne/an)</th>\n",
       "      <th>Production/Disponibilité intérieure (volaille)</th>\n",
       "      <th>Importations/Disponibilité intérieure (volaille)</th>\n",
       "      <th>Proportion importation française (volaille)</th>\n",
       "      <th>Proportion de conso viande</th>\n",
       "      <th>Proportion de conso volaille</th>\n",
       "    </tr>\n",
       "  </thead>\n",
       "  <tbody>\n",
       "    <tr>\n",
       "      <th>0</th>\n",
       "      <td>Afghanistan</td>\n",
       "      <td>520.616409</td>\n",
       "      <td>36296.113</td>\n",
       "      <td>1.53</td>\n",
       "      <td>49.122807</td>\n",
       "      <td>50.877193</td>\n",
       "      <td>0.0</td>\n",
       "      <td>2.405922</td>\n",
       "      <td>17.628205</td>\n",
       "    </tr>\n",
       "    <tr>\n",
       "      <th>1</th>\n",
       "      <td>Afrique du Sud</td>\n",
       "      <td>6121.876572</td>\n",
       "      <td>57009.756</td>\n",
       "      <td>35.69</td>\n",
       "      <td>78.706327</td>\n",
       "      <td>24.268178</td>\n",
       "      <td>0.0</td>\n",
       "      <td>10.786106</td>\n",
       "      <td>59.468147</td>\n",
       "    </tr>\n",
       "    <tr>\n",
       "      <th>2</th>\n",
       "      <td>Albanie</td>\n",
       "      <td>4514.204908</td>\n",
       "      <td>2884.169</td>\n",
       "      <td>16.36</td>\n",
       "      <td>27.659574</td>\n",
       "      <td>80.851064</td>\n",
       "      <td>0.0</td>\n",
       "      <td>3.745525</td>\n",
       "      <td>34.558824</td>\n",
       "    </tr>\n",
       "  </tbody>\n",
       "</table>\n",
       "</div>"
      ],
      "text/plain": [
       "             Zone  PIB/habitant (US$)  Population (1000 habitants)  \\\n",
       "0     Afghanistan          520.616409                    36296.113   \n",
       "1  Afrique du Sud         6121.876572                    57009.756   \n",
       "2         Albanie         4514.204908                     2884.169   \n",
       "\n",
       "   Disponibilité alimentaire en quantité de volaille (kg/personne/an)  \\\n",
       "0                                               1.53                    \n",
       "1                                              35.69                    \n",
       "2                                              16.36                    \n",
       "\n",
       "   Production/Disponibilité intérieure (volaille)  \\\n",
       "0                                       49.122807   \n",
       "1                                       78.706327   \n",
       "2                                       27.659574   \n",
       "\n",
       "   Importations/Disponibilité intérieure (volaille)  \\\n",
       "0                                         50.877193   \n",
       "1                                         24.268178   \n",
       "2                                         80.851064   \n",
       "\n",
       "   Proportion importation française (volaille)  Proportion de conso viande  \\\n",
       "0                                          0.0                    2.405922   \n",
       "1                                          0.0                   10.786106   \n",
       "2                                          0.0                    3.745525   \n",
       "\n",
       "   Proportion de conso volaille  \n",
       "0                     17.628205  \n",
       "1                     59.468147  \n",
       "2                     34.558824  "
      ]
     },
     "execution_count": 159,
     "metadata": {},
     "output_type": "execute_result"
    }
   ],
   "source": [
    "data = data.groupby(\"Zone\")[['PIB/habitant', 'Population', 'Disponibilité alimentaire en quantité de volaille (kg/personne/an)', 'Production/Disponibilité intérieure (volaille)', 'Importations/Disponibilité intérieure (volaille)', 'Proportion importation française (volaille)', 'Proportion de conso viande', 'Proportion de conso volaille']].agg(np.mean)\n",
    "data = data.rename(columns = {'PIB/habitant' : 'PIB/habitant (US$)', 'Population' : 'Population (1000 habitants)'})\n",
    "data.reset_index(inplace=True)\n",
    "data.head(3)"
   ]
  },
  {
   "cell_type": "markdown",
   "id": "b9dd9afd",
   "metadata": {},
   "source": [
    "Nous avons maintenant un dataframe contenant les pays en ligne et les variables d'intérêt en colonne."
   ]
  },
  {
   "cell_type": "markdown",
   "id": "a9d1a90c",
   "metadata": {},
   "source": [
    "### Clustering des données : classification hiérarchique ascendante (CAH)"
   ]
  },
  {
   "cell_type": "markdown",
   "id": "4a0f25a1",
   "metadata": {},
   "source": [
    "On commence la classification des données par la première méthodde :"
   ]
  },
  {
   "cell_type": "code",
   "execution_count": 160,
   "id": "1bea83b6",
   "metadata": {},
   "outputs": [],
   "source": [
    "X = data.drop(columns = {'Zone'}).values"
   ]
  },
  {
   "cell_type": "code",
   "execution_count": 161,
   "id": "a186298a",
   "metadata": {},
   "outputs": [],
   "source": [
    "X_scaled = preprocessing.MinMaxScaler().fit_transform(X)"
   ]
  },
  {
   "cell_type": "code",
   "execution_count": 162,
   "id": "47583b80",
   "metadata": {},
   "outputs": [
    {
     "data": {
      "image/png": "[encoded data removed]",
      "text/plain": [
       "<Figure size 720x360 with 1 Axes>"
      ]
     },
     "metadata": {
      "needs_background": "light"
     },
     "output_type": "display_data"
    }
   ],
   "source": [
    "plt.figure(figsize=(10,5))\n",
    "plt.title(\"Dendrogramme\")\n",
    "dend = shc.dendrogram(shc.linkage(X_scaled, method=\"ward\"))\n",
    "plt.axhline(y=1.3, c='red')\n",
    "plt.show()"
   ]
  },
  {
   "cell_type": "markdown",
   "id": "c71237d2",
   "metadata": {},
   "source": [
    "On choisit un nombre de 8 clusters."
   ]
  },
  {
   "cell_type": "code",
   "execution_count": 163,
   "id": "2dce922a",
   "metadata": {},
   "outputs": [],
   "source": [
    "cluster_cah = AgglomerativeClustering(n_clusters=8, affinity='euclidean', linkage='ward').fit(X_scaled)"
   ]
  },
  {
   "cell_type": "markdown",
   "id": "fc926cc2",
   "metadata": {},
   "source": [
    "On cherche à connaître les centroïdes de chaque classe. Etant donné que la méthode de classification hiérarchique ne les donne pas directement, nous devons les calculer. Pour cela, on va récupérer la médiane de la distribution de chaque cluster pour chaque variable, ce qui va nous donner 8 centroïdes de 8 coordonnées chacun."
   ]
  },
  {
   "cell_type": "code",
   "execution_count": 164,
   "id": "2e804702",
   "metadata": {},
   "outputs": [],
   "source": [
    "X_scaled_df = pd.DataFrame(X_scaled)\n",
    "X_scaled_df['cluster_cah'] = pd.DataFrame(cluster_cah.labels_)"
   ]
  },
  {
   "cell_type": "code",
   "execution_count": 165,
   "id": "e8d5997a",
   "metadata": {},
   "outputs": [],
   "source": [
    "centroids_cah = []\n",
    "\n",
    "for i in range(len(X_scaled_df.drop(columns = {'cluster_cah'}).columns)) :\n",
    "\n",
    "    tmp = X_scaled_df[[i, 'cluster_cah']].sort_values(by=\"cluster_cah\")\n",
    "    tmp = pd.get_dummies(tmp, columns=['cluster_cah']).sort_index()\n",
    "    \n",
    "    var = []\n",
    "\n",
    "    for j in range(len(X_scaled_df['cluster_cah'].unique())) :\n",
    "        tmp['cluster_cah_' + str(j)] = tmp['cluster_cah_' + str(j)].astype(float)\n",
    "        for k in range(len(tmp)) :\n",
    "            if tmp['cluster_cah_' + str(j)][k] == 1 :\n",
    "                tmp.loc[k, 'cluster_cah_' + str(j)] = tmp.loc[k, i]\n",
    "        tmp = tmp[tmp != 0]\n",
    "        var.append(tmp['cluster_cah_' + str(j)].median())\n",
    "    centroids_cah.append(var)\n",
    "    \n",
    "centroids_cah = pd.DataFrame(centroids_cah).transpose()"
   ]
  },
  {
   "cell_type": "code",
   "execution_count": 166,
   "id": "f343a09f",
   "metadata": {
    "scrolled": false
   },
   "outputs": [
    {
     "data": {
      "text/html": [
       "<div>\n",
       "<style scoped>\n",
       "    .dataframe tbody tr th:only-of-type {\n",
       "        vertical-align: middle;\n",
       "    }\n",
       "\n",
       "    .dataframe tbody tr th {\n",
       "        vertical-align: top;\n",
       "    }\n",
       "\n",
       "    .dataframe thead th {\n",
       "        text-align: right;\n",
       "    }\n",
       "</style>\n",
       "<table border=\"1\" class=\"dataframe\">\n",
       "  <thead>\n",
       "    <tr style=\"text-align: right;\">\n",
       "      <th></th>\n",
       "      <th>PIB/habitant (US$)</th>\n",
       "      <th>Population (1000 habitants)</th>\n",
       "      <th>Disponibilité alimentaire en quantité de volaille (kg/personne/an)</th>\n",
       "      <th>Production/Disponibilité intérieure (volaille)</th>\n",
       "      <th>Importations/Disponibilité intérieure (volaille)</th>\n",
       "      <th>Proportion importation française (volaille)</th>\n",
       "      <th>Proportion de conso viande</th>\n",
       "      <th>Proportion de conso volaille</th>\n",
       "    </tr>\n",
       "  </thead>\n",
       "  <tbody>\n",
       "    <tr>\n",
       "      <th>0</th>\n",
       "      <td>0.074931</td>\n",
       "      <td>0.024777</td>\n",
       "      <td>0.329656</td>\n",
       "      <td>0.169602</td>\n",
       "      <td>0.223549</td>\n",
       "      <td>0.027799</td>\n",
       "      <td>0.339545</td>\n",
       "      <td>0.379011</td>\n",
       "    </tr>\n",
       "    <tr>\n",
       "      <th>1</th>\n",
       "      <td>0.002989</td>\n",
       "      <td>0.118348</td>\n",
       "      <td>0.039091</td>\n",
       "      <td>0.303040</td>\n",
       "      <td>0.044101</td>\n",
       "      <td>0.583882</td>\n",
       "      <td>0.100841</td>\n",
       "      <td>0.161494</td>\n",
       "    </tr>\n",
       "    <tr>\n",
       "      <th>2</th>\n",
       "      <td>0.649304</td>\n",
       "      <td>0.032488</td>\n",
       "      <td>0.406125</td>\n",
       "      <td>0.282127</td>\n",
       "      <td>0.217529</td>\n",
       "      <td>0.014234</td>\n",
       "      <td>0.432606</td>\n",
       "      <td>0.293013</td>\n",
       "    </tr>\n",
       "    <tr>\n",
       "      <th>3</th>\n",
       "      <td>0.190156</td>\n",
       "      <td>0.236075</td>\n",
       "      <td>0.518356</td>\n",
       "      <td>0.364659</td>\n",
       "      <td>0.042275</td>\n",
       "      <td>0.052769</td>\n",
       "      <td>0.481218</td>\n",
       "      <td>0.369148</td>\n",
       "    </tr>\n",
       "    <tr>\n",
       "      <th>4</th>\n",
       "      <td>0.023742</td>\n",
       "      <td>0.798039</td>\n",
       "      <td>0.245958</td>\n",
       "      <td>0.301106</td>\n",
       "      <td>0.093594</td>\n",
       "      <td>0.000556</td>\n",
       "      <td>0.394873</td>\n",
       "      <td>0.414352</td>\n",
       "    </tr>\n",
       "    <tr>\n",
       "      <th>5</th>\n",
       "      <td>0.416298</td>\n",
       "      <td>0.087142</td>\n",
       "      <td>0.295796</td>\n",
       "      <td>0.985381</td>\n",
       "      <td>0.595516</td>\n",
       "      <td>0.158712</td>\n",
       "      <td>0.380317</td>\n",
       "      <td>0.216034</td>\n",
       "    </tr>\n",
       "    <tr>\n",
       "      <th>6</th>\n",
       "      <td>0.418083</td>\n",
       "      <td>0.043752</td>\n",
       "      <td>1.000000</td>\n",
       "      <td>0.028139</td>\n",
       "      <td>1.000000</td>\n",
       "      <td>0.031430</td>\n",
       "      <td>1.000000</td>\n",
       "      <td>0.435816</td>\n",
       "    </tr>\n",
       "    <tr>\n",
       "      <th>7</th>\n",
       "      <td>0.070617</td>\n",
       "      <td>0.041493</td>\n",
       "      <td>0.643238</td>\n",
       "      <td>0.254542</td>\n",
       "      <td>0.073382</td>\n",
       "      <td>0.021016</td>\n",
       "      <td>0.525430</td>\n",
       "      <td>0.914380</td>\n",
       "    </tr>\n",
       "  </tbody>\n",
       "</table>\n",
       "</div>"
      ],
      "text/plain": [
       "   PIB/habitant (US$)  Population (1000 habitants)  \\\n",
       "0            0.074931                     0.024777   \n",
       "1            0.002989                     0.118348   \n",
       "2            0.649304                     0.032488   \n",
       "3            0.190156                     0.236075   \n",
       "4            0.023742                     0.798039   \n",
       "5            0.416298                     0.087142   \n",
       "6            0.418083                     0.043752   \n",
       "7            0.070617                     0.041493   \n",
       "\n",
       "   Disponibilité alimentaire en quantité de volaille (kg/personne/an)  \\\n",
       "0                                           0.329656                    \n",
       "1                                           0.039091                    \n",
       "2                                           0.406125                    \n",
       "3                                           0.518356                    \n",
       "4                                           0.245958                    \n",
       "5                                           0.295796                    \n",
       "6                                           1.000000                    \n",
       "7                                           0.643238                    \n",
       "\n",
       "   Production/Disponibilité intérieure (volaille)  \\\n",
       "0                                        0.169602   \n",
       "1                                        0.303040   \n",
       "2                                        0.282127   \n",
       "3                                        0.364659   \n",
       "4                                        0.301106   \n",
       "5                                        0.985381   \n",
       "6                                        0.028139   \n",
       "7                                        0.254542   \n",
       "\n",
       "   Importations/Disponibilité intérieure (volaille)  \\\n",
       "0                                          0.223549   \n",
       "1                                          0.044101   \n",
       "2                                          0.217529   \n",
       "3                                          0.042275   \n",
       "4                                          0.093594   \n",
       "5                                          0.595516   \n",
       "6                                          1.000000   \n",
       "7                                          0.073382   \n",
       "\n",
       "   Proportion importation française (volaille)  Proportion de conso viande  \\\n",
       "0                                     0.027799                    0.339545   \n",
       "1                                     0.583882                    0.100841   \n",
       "2                                     0.014234                    0.432606   \n",
       "3                                     0.052769                    0.481218   \n",
       "4                                     0.000556                    0.394873   \n",
       "5                                     0.158712                    0.380317   \n",
       "6                                     0.031430                    1.000000   \n",
       "7                                     0.021016                    0.525430   \n",
       "\n",
       "   Proportion de conso volaille  \n",
       "0                      0.379011  \n",
       "1                      0.161494  \n",
       "2                      0.293013  \n",
       "3                      0.369148  \n",
       "4                      0.414352  \n",
       "5                      0.216034  \n",
       "6                      0.435816  \n",
       "7                      0.914380  "
      ]
     },
     "execution_count": 166,
     "metadata": {},
     "output_type": "execute_result"
    }
   ],
   "source": [
    "names = np.array(data.drop(columns = {'Zone'}).columns)\n",
    "for i in range(len(X_scaled_df.drop(columns = {'cluster_cah'}).columns)) :\n",
    "    centroids_cah.rename(columns = {i : names[i]}, inplace=True)\n",
    "    \n",
    "centroids_cah"
   ]
  },
  {
   "cell_type": "markdown",
   "id": "02278eaa",
   "metadata": {},
   "source": [
    "Maintenant que nous avons identifié tous nos clusters, on peut les représenter sur un radar plot afin de voir la contribution de chaque cluster à chaque variable."
   ]
  },
  {
   "cell_type": "code",
   "execution_count": 167,
   "id": "8bc10913",
   "metadata": {},
   "outputs": [],
   "source": [
    "angles=np.linspace(0,2*np.pi,len(names), endpoint=False)\n",
    "angles=np.concatenate((angles,[angles[0]]))\n",
    "\n",
    "centroids_cah = centroids_cah.append(centroids_cah.loc[0], ignore_index=False)\n",
    "names = np.append(names, names[0])"
   ]
  },
  {
   "cell_type": "code",
   "execution_count": 168,
   "id": "271c8d1f",
   "metadata": {},
   "outputs": [
    {
     "data": {
      "image/png": "[encoded data removed]",
      "text/plain": [
       "<Figure size 432x432 with 1 Axes>"
      ]
     },
     "metadata": {
      "needs_background": "light"
     },
     "output_type": "display_data"
    }
   ],
   "source": [
    "fig=plt.figure(figsize=(6,6))\n",
    "ax=fig.add_subplot(111, polar=True)\n",
    "\n",
    "\n",
    "for i in range(len(names)-1) :\n",
    "    \n",
    "    ax.plot(angles,centroids_cah[str(centroids_cah.columns[i])], label = centroids_cah.index[i])\n",
    "    ax.fill(angles,centroids_cah[str(centroids_cah.columns[i])], alpha = 0.25)\n",
    "\n",
    "ax.set_thetagrids(angles * 180/np.pi, names)\n",
    "\n",
    "plt.legend(bbox_to_anchor=(1.2, 1), loc='upper left', borderaxespad=0)\n",
    "plt.title(\"Radar plot décrivant les centroïdes des classes obtenues par classification hiérarchique\")\n",
    "plt.show()"
   ]
  },
  {
   "cell_type": "markdown",
   "id": "8ff55934",
   "metadata": {},
   "source": [
    "A noter que le nombre de clusters élevé rend la visualisation moins lisible, mais on peut directement voir des groupes assez différents les uns des autres. Par exemple, le cluster n°3 se caractérise par une forte proportion d'importation de volaille française. Les clusters n°2, 4 et 6 se démarquent par une haute consommation de viande. Enfin, le cluster n°1 regroupe les pays qui importent beaucoup de volaille."
   ]
  },
  {
   "cell_type": "markdown",
   "id": "f31b7d01",
   "metadata": {},
   "source": [
    "Une possibilité pour sélectionner des clusters intéressants serait de choisir ceux qui ont un PIB/habitant assez élevé, qui consomment beaucoup de viande dont beaucoup de volaille et qui ont potentiellement une population assez élevée. Par exemple, les clusters n°2, 6 et 7 pourraient être un bon début."
   ]
  },
  {
   "cell_type": "markdown",
   "id": "1f308cc7",
   "metadata": {},
   "source": [
    "En revanche, les variables de disponibilité alimentaire de volaille, d'importation française, d'importation et de production sont plus ouvertes à interprétation, quant à si les pays sont plus intéressant sont ceux qui ont les valeurs les plus faibles ou les plus élevées."
   ]
  },
  {
   "cell_type": "code",
   "execution_count": 169,
   "id": "95e01381",
   "metadata": {},
   "outputs": [
    {
     "data": {
      "image/png": "[encoded data removed]",
      "text/plain": [
       "<Figure size 432x288 with 2 Axes>"
      ]
     },
     "metadata": {
      "needs_background": "light"
     },
     "output_type": "display_data"
    }
   ],
   "source": [
    "sns.heatmap(centroids_cah.drop_duplicates(), linewidth = 1, annot = True)\n",
    "plt.title(\"Heatmap représentant la contribution de chacune des 8 variables pour chaque cluster (par CAH)\")\n",
    "plt.show()"
   ]
  },
  {
   "cell_type": "markdown",
   "id": "26b78b6a",
   "metadata": {},
   "source": [
    "Sur ce visuel-ci, on peut directement voir toutes les contributions. On voit directement que le cluster n°6 regroupe des pays qui consomment beaucoup de viande et qui possèdent beaucoup de volaille importée, mais très peu de la France. On peut aussi faire une lecture en colonne et voir que la plupart des clusters importent peu de volaille de France, à l'exception du cluster n°1."
   ]
  },
  {
   "cell_type": "markdown",
   "id": "5fea20f7",
   "metadata": {},
   "source": [
    "### Clustering des données : k-means"
   ]
  },
  {
   "cell_type": "markdown",
   "id": "2bc5f34d",
   "metadata": {},
   "source": [
    "Maintenant qu'une première segmentation est faite, on essaie par une deuxième méthode afin de pouvoir les mettre en perspective."
   ]
  },
  {
   "cell_type": "markdown",
   "id": "df6f100e",
   "metadata": {},
   "source": [
    "On commence par rechercher le nombre de clusters optimal : pour cela on peut utiliser deux méthodes, soit en tentant de maximiser le coefficient de Silhouette pour chaque K, soit en tentant d'optimiser la variance intraclasse totale par la méthode du coude."
   ]
  },
  {
   "cell_type": "code",
   "execution_count": 170,
   "id": "538482e8",
   "metadata": {},
   "outputs": [],
   "source": [
    "silhouettes = []\n",
    "wcss = []\n",
    "\n",
    "for i in range(2, 10):\n",
    "    cluster_k = KMeans(n_clusters = i, n_init = 1, init='k-means++')\n",
    "    cluster_k.fit(X_scaled)\n",
    "    silh = metrics.silhouette_score(X_scaled, cluster_k.labels_)\n",
    "    silhouettes.append(silh)\n",
    "    wcss.append(cluster_k.inertia_)"
   ]
  },
  {
   "cell_type": "code",
   "execution_count": 171,
   "id": "4dfed73b",
   "metadata": {},
   "outputs": [
    {
     "data": {
      "image/png": "[encoded data removed]",
      "text/plain": [
       "<Figure size 1080x360 with 2 Axes>"
      ]
     },
     "metadata": {
      "needs_background": "light"
     },
     "output_type": "display_data"
    }
   ],
   "source": [
    "fig = plt.figure(figsize=(15,5))\n",
    "fig.add_subplot(121).plot(range(2,10), silhouettes, marker='o')\n",
    "plt.title(\"Coefficient de Silhouette calculé pour chaque valeur de K\")\n",
    "plt.xlabel(\"Nombre de clusters\")\n",
    "plt.ylabel(\"Coeff. de Silhouette\")\n",
    "fig.add_subplot(122).plot(range(2,10), wcss, marker='o')\n",
    "plt.title(\"Variance intra-classe calculée pour chaque valeur de K\")\n",
    "plt.xlabel(\"Nombre de clusters\")\n",
    "plt.ylabel(\"Variance intra-clusters\")\n",
    "plt.show()"
   ]
  },
  {
   "cell_type": "markdown",
   "id": "f2b8ec28",
   "metadata": {},
   "source": [
    "On choisit ici K = 8."
   ]
  },
  {
   "cell_type": "markdown",
   "id": "83f1f8a2",
   "metadata": {},
   "source": [
    "On procède maintenant à la segmentation :"
   ]
  },
  {
   "cell_type": "code",
   "execution_count": 172,
   "id": "9782ce24",
   "metadata": {},
   "outputs": [],
   "source": [
    "cluster_k = KMeans(n_clusters = 8).fit(X_scaled)"
   ]
  },
  {
   "cell_type": "code",
   "execution_count": 173,
   "id": "e63e078e",
   "metadata": {},
   "outputs": [
    {
     "data": {
      "text/html": [
       "<div>\n",
       "<style scoped>\n",
       "    .dataframe tbody tr th:only-of-type {\n",
       "        vertical-align: middle;\n",
       "    }\n",
       "\n",
       "    .dataframe tbody tr th {\n",
       "        vertical-align: top;\n",
       "    }\n",
       "\n",
       "    .dataframe thead th {\n",
       "        text-align: right;\n",
       "    }\n",
       "</style>\n",
       "<table border=\"1\" class=\"dataframe\">\n",
       "  <thead>\n",
       "    <tr style=\"text-align: right;\">\n",
       "      <th></th>\n",
       "      <th>PIB/habitant (US$)</th>\n",
       "      <th>Population (1000 habitants)</th>\n",
       "      <th>Disponibilité alimentaire en quantité de volaille (kg/personne/an)</th>\n",
       "      <th>Production/Disponibilité intérieure (volaille)</th>\n",
       "      <th>Importations/Disponibilité intérieure (volaille)</th>\n",
       "      <th>Proportion importation française (volaille)</th>\n",
       "      <th>Proportion de conso viande</th>\n",
       "      <th>Proportion de conso volaille</th>\n",
       "    </tr>\n",
       "  </thead>\n",
       "  <tbody>\n",
       "    <tr>\n",
       "      <th>0</th>\n",
       "      <td>0.023552</td>\n",
       "      <td>0.086648</td>\n",
       "      <td>0.098916</td>\n",
       "      <td>0.216055</td>\n",
       "      <td>0.177400</td>\n",
       "      <td>0.041309</td>\n",
       "      <td>0.153505</td>\n",
       "      <td>0.314044</td>\n",
       "    </tr>\n",
       "    <tr>\n",
       "      <th>1</th>\n",
       "      <td>0.239663</td>\n",
       "      <td>0.579787</td>\n",
       "      <td>0.347754</td>\n",
       "      <td>0.307901</td>\n",
       "      <td>0.073159</td>\n",
       "      <td>0.092568</td>\n",
       "      <td>0.401970</td>\n",
       "      <td>0.347128</td>\n",
       "    </tr>\n",
       "    <tr>\n",
       "      <th>2</th>\n",
       "      <td>0.641900</td>\n",
       "      <td>0.025217</td>\n",
       "      <td>0.434445</td>\n",
       "      <td>0.236169</td>\n",
       "      <td>0.198493</td>\n",
       "      <td>0.113335</td>\n",
       "      <td>0.473788</td>\n",
       "      <td>0.298157</td>\n",
       "    </tr>\n",
       "    <tr>\n",
       "      <th>3</th>\n",
       "      <td>0.120716</td>\n",
       "      <td>0.137650</td>\n",
       "      <td>0.623906</td>\n",
       "      <td>0.262680</td>\n",
       "      <td>0.076196</td>\n",
       "      <td>0.067773</td>\n",
       "      <td>0.463980</td>\n",
       "      <td>0.794781</td>\n",
       "    </tr>\n",
       "    <tr>\n",
       "      <th>4</th>\n",
       "      <td>0.117540</td>\n",
       "      <td>0.061710</td>\n",
       "      <td>0.424185</td>\n",
       "      <td>0.261439</td>\n",
       "      <td>0.193068</td>\n",
       "      <td>0.051235</td>\n",
       "      <td>0.414242</td>\n",
       "      <td>0.416198</td>\n",
       "    </tr>\n",
       "    <tr>\n",
       "      <th>5</th>\n",
       "      <td>0.416298</td>\n",
       "      <td>0.087142</td>\n",
       "      <td>0.295796</td>\n",
       "      <td>0.985381</td>\n",
       "      <td>0.595516</td>\n",
       "      <td>0.158712</td>\n",
       "      <td>0.380317</td>\n",
       "      <td>0.216034</td>\n",
       "    </tr>\n",
       "    <tr>\n",
       "      <th>6</th>\n",
       "      <td>0.418083</td>\n",
       "      <td>0.043752</td>\n",
       "      <td>1.000000</td>\n",
       "      <td>0.028139</td>\n",
       "      <td>1.000000</td>\n",
       "      <td>0.031430</td>\n",
       "      <td>1.000000</td>\n",
       "      <td>0.435816</td>\n",
       "    </tr>\n",
       "    <tr>\n",
       "      <th>7</th>\n",
       "      <td>0.014637</td>\n",
       "      <td>0.077664</td>\n",
       "      <td>0.097267</td>\n",
       "      <td>0.283421</td>\n",
       "      <td>0.058911</td>\n",
       "      <td>0.722588</td>\n",
       "      <td>0.198264</td>\n",
       "      <td>0.277886</td>\n",
       "    </tr>\n",
       "  </tbody>\n",
       "</table>\n",
       "</div>"
      ],
      "text/plain": [
       "   PIB/habitant (US$)  Population (1000 habitants)  \\\n",
       "0            0.023552                     0.086648   \n",
       "1            0.239663                     0.579787   \n",
       "2            0.641900                     0.025217   \n",
       "3            0.120716                     0.137650   \n",
       "4            0.117540                     0.061710   \n",
       "5            0.416298                     0.087142   \n",
       "6            0.418083                     0.043752   \n",
       "7            0.014637                     0.077664   \n",
       "\n",
       "   Disponibilité alimentaire en quantité de volaille (kg/personne/an)  \\\n",
       "0                                           0.098916                    \n",
       "1                                           0.347754                    \n",
       "2                                           0.434445                    \n",
       "3                                           0.623906                    \n",
       "4                                           0.424185                    \n",
       "5                                           0.295796                    \n",
       "6                                           1.000000                    \n",
       "7                                           0.097267                    \n",
       "\n",
       "   Production/Disponibilité intérieure (volaille)  \\\n",
       "0                                        0.216055   \n",
       "1                                        0.307901   \n",
       "2                                        0.236169   \n",
       "3                                        0.262680   \n",
       "4                                        0.261439   \n",
       "5                                        0.985381   \n",
       "6                                        0.028139   \n",
       "7                                        0.283421   \n",
       "\n",
       "   Importations/Disponibilité intérieure (volaille)  \\\n",
       "0                                          0.177400   \n",
       "1                                          0.073159   \n",
       "2                                          0.198493   \n",
       "3                                          0.076196   \n",
       "4                                          0.193068   \n",
       "5                                          0.595516   \n",
       "6                                          1.000000   \n",
       "7                                          0.058911   \n",
       "\n",
       "   Proportion importation française (volaille)  Proportion de conso viande  \\\n",
       "0                                     0.041309                    0.153505   \n",
       "1                                     0.092568                    0.401970   \n",
       "2                                     0.113335                    0.473788   \n",
       "3                                     0.067773                    0.463980   \n",
       "4                                     0.051235                    0.414242   \n",
       "5                                     0.158712                    0.380317   \n",
       "6                                     0.031430                    1.000000   \n",
       "7                                     0.722588                    0.198264   \n",
       "\n",
       "   Proportion de conso volaille  \n",
       "0                      0.314044  \n",
       "1                      0.347128  \n",
       "2                      0.298157  \n",
       "3                      0.794781  \n",
       "4                      0.416198  \n",
       "5                      0.216034  \n",
       "6                      0.435816  \n",
       "7                      0.277886  "
      ]
     },
     "execution_count": 173,
     "metadata": {},
     "output_type": "execute_result"
    }
   ],
   "source": [
    "centroids_k = pd.DataFrame(cluster_k.cluster_centers_)\n",
    "\n",
    "for i in range(len(centroids_k.columns)) :\n",
    "    centroids_k = centroids_k.rename(columns = {i : names[i]})\n",
    "    \n",
    "centroids_k"
   ]
  },
  {
   "cell_type": "code",
   "execution_count": 174,
   "id": "eac01df5",
   "metadata": {},
   "outputs": [],
   "source": [
    "centroids_k = centroids_k.append(centroids_k.loc[0], ignore_index=False)"
   ]
  },
  {
   "cell_type": "code",
   "execution_count": 175,
   "id": "15cef05c",
   "metadata": {
    "scrolled": false
   },
   "outputs": [
    {
     "data": {
      "image/png": "[encoded data removed]",
      "text/plain": [
       "<Figure size 432x432 with 1 Axes>"
      ]
     },
     "metadata": {
      "needs_background": "light"
     },
     "output_type": "display_data"
    }
   ],
   "source": [
    "fig=plt.figure(figsize=(6,6))\n",
    "ax=fig.add_subplot(111, polar=True)\n",
    "\n",
    "for i in range(len(names)-1) :\n",
    "    \n",
    "    ax.plot(angles,centroids_k[str(centroids_cah.columns[i])], label = centroids_k.index[i])\n",
    "    ax.fill(angles,centroids_k[str(centroids_cah.columns[i])], alpha = 0.25)\n",
    "\n",
    "ax.set_thetagrids(angles * 180/np.pi, names)\n",
    "\n",
    "plt.legend(bbox_to_anchor=(1.2, 1), loc='upper left', borderaxespad=0)\n",
    "plt.title(\"Radar plot décrivant les centroïdes des classes obtenues par k-means\")\n",
    "plt.show()"
   ]
  },
  {
   "cell_type": "markdown",
   "id": "bc3eabf1",
   "metadata": {},
   "source": [
    "On peut voir que les clusters sont assez différents entre les deux radar plots. Par exemple, le cluster qui se démarquait par la forte proportion d'importation de volaille française a ici des scores faibles sur les autres variables, ce qui n'était pas le cas plus tôt."
   ]
  },
  {
   "cell_type": "markdown",
   "id": "314c60f1",
   "metadata": {},
   "source": [
    "Ici, il semblerait intéressant de sélectionner le cluster n°7 pour les critères énoncés précédemment."
   ]
  },
  {
   "cell_type": "code",
   "execution_count": 176,
   "id": "c5de2ef9",
   "metadata": {},
   "outputs": [
    {
     "data": {
      "image/png": "[encoded data removed]",
      "text/plain": [
       "<Figure size 432x288 with 2 Axes>"
      ]
     },
     "metadata": {
      "needs_background": "light"
     },
     "output_type": "display_data"
    }
   ],
   "source": [
    "sns.heatmap(centroids_k.drop_duplicates(), linewidth = 1, annot = True)\n",
    "plt.title(\"Heatmap représentant la contribution de chacune des 8 variables pour chaque cluster (par k-means)\")\n",
    "plt.show()"
   ]
  },
  {
   "cell_type": "markdown",
   "id": "21a8ac15",
   "metadata": {},
   "source": [
    "Ici, on peut voir que les groupes sont différents : on n'observe plus un cluster qui a 3 scores de 1. Au niveau de l'importation de volaille française, le résultat est un peu plus équilibré entre les différents clusters."
   ]
  },
  {
   "cell_type": "markdown",
   "id": "b5f16fc3",
   "metadata": {},
   "source": [
    "On peut interpréter ces résultats de différentes manières, mais une possibilité serait de choisir des clusters qui ont un score faible en production de volaille, mais un score élevé en importation, ainsi qu'une bonne proportion de consommation de viande, mais surtout de volaille."
   ]
  },
  {
   "cell_type": "markdown",
   "id": "141a3230",
   "metadata": {},
   "source": [
    "Une fois ces groupes choisis, on pourra pousser l'analyse à une échelle plus granulaire en s'intéressant aux pays, à leur ouverture au commerce international et en particulier français, et à leur potentiel d'achat."
   ]
  },
  {
   "cell_type": "markdown",
   "id": "33b65aa1",
   "metadata": {},
   "source": [
    "Pour pouvoir comparer de façon plus technique les deux méthodes de clustering, nous devons d'abord réaliser une ACP."
   ]
  },
  {
   "cell_type": "markdown",
   "id": "fb44d200",
   "metadata": {},
   "source": [
    "### Analyse en Composantes Principales (ACP)"
   ]
  },
  {
   "cell_type": "markdown",
   "id": "b160879c",
   "metadata": {},
   "source": [
    "Maintenant, nous allons réduire le nombre de dimensions de notre dataframe, autrement dit, le nombre de variables d'intérêt. Cela permettra de visualiser les clusters. Nous allons pour cela réaliser une ACP."
   ]
  },
  {
   "cell_type": "markdown",
   "id": "65f9c386",
   "metadata": {},
   "source": [
    "On commence par normaliser les valeurs de notre dataframe :"
   ]
  },
  {
   "cell_type": "code",
   "execution_count": 177,
   "id": "13ecfe98",
   "metadata": {},
   "outputs": [],
   "source": [
    "X_scaled = preprocessing.StandardScaler().fit_transform(X)\n",
    "n_components=3"
   ]
  },
  {
   "cell_type": "markdown",
   "id": "502b0484",
   "metadata": {},
   "source": [
    "On procède à l'ACP :"
   ]
  },
  {
   "cell_type": "code",
   "execution_count": 178,
   "id": "1f17bbd7",
   "metadata": {},
   "outputs": [],
   "source": [
    "pca = decomposition.PCA(n_components).fit(X_scaled)\n",
    "X_projected = pca.transform(X_scaled)"
   ]
  },
  {
   "cell_type": "code",
   "execution_count": 179,
   "id": "e2be5e6f",
   "metadata": {},
   "outputs": [
    {
     "name": "stdout",
     "output_type": "stream",
     "text": [
      "[0.3029235  0.19063207 0.15824648]\n",
      "0.6518020419211163\n"
     ]
    }
   ],
   "source": [
    "print(pca.explained_variance_ratio_)\n",
    "print(pca.explained_variance_ratio_.sum())"
   ]
  },
  {
   "cell_type": "markdown",
   "id": "708a1dd4",
   "metadata": {},
   "source": [
    "On voit que la première composante explique 30% de la variance totale, la seconde en explique 19%, et la troisième 16%. Au total, cela donne 65% de la variance totale, ce qui est acceptable."
   ]
  },
  {
   "cell_type": "code",
   "execution_count": 180,
   "id": "bb1b44cf",
   "metadata": {},
   "outputs": [],
   "source": [
    "new_components = pd.DataFrame(X_projected).rename(columns = {0 : 'PC1', 1 : 'PC2', 2 : 'PC3'})"
   ]
  },
  {
   "cell_type": "code",
   "execution_count": 181,
   "id": "ace8977a",
   "metadata": {},
   "outputs": [],
   "source": [
    "new_components['Zone'] = np.array(data['Zone'])\n",
    "new_components = pd.merge(data, new_components, on=\"Zone\")[['Zone', 'PC1', 'PC2', 'PC3']]"
   ]
  },
  {
   "cell_type": "code",
   "execution_count": 182,
   "id": "61d08142",
   "metadata": {},
   "outputs": [
    {
     "data": {
      "text/html": [
       "<div>\n",
       "<style scoped>\n",
       "    .dataframe tbody tr th:only-of-type {\n",
       "        vertical-align: middle;\n",
       "    }\n",
       "\n",
       "    .dataframe tbody tr th {\n",
       "        vertical-align: top;\n",
       "    }\n",
       "\n",
       "    .dataframe thead th {\n",
       "        text-align: right;\n",
       "    }\n",
       "</style>\n",
       "<table border=\"1\" class=\"dataframe\">\n",
       "  <thead>\n",
       "    <tr style=\"text-align: right;\">\n",
       "      <th></th>\n",
       "      <th>Zone</th>\n",
       "      <th>PC1</th>\n",
       "      <th>PC2</th>\n",
       "      <th>PC3</th>\n",
       "    </tr>\n",
       "  </thead>\n",
       "  <tbody>\n",
       "    <tr>\n",
       "      <th>0</th>\n",
       "      <td>Afghanistan</td>\n",
       "      <td>-2.391792</td>\n",
       "      <td>0.126869</td>\n",
       "      <td>-0.501313</td>\n",
       "    </tr>\n",
       "    <tr>\n",
       "      <th>1</th>\n",
       "      <td>Afrique du Sud</td>\n",
       "      <td>1.152403</td>\n",
       "      <td>-1.814173</td>\n",
       "      <td>1.392088</td>\n",
       "    </tr>\n",
       "    <tr>\n",
       "      <th>2</th>\n",
       "      <td>Albanie</td>\n",
       "      <td>-0.757669</td>\n",
       "      <td>-0.634682</td>\n",
       "      <td>-1.238930</td>\n",
       "    </tr>\n",
       "  </tbody>\n",
       "</table>\n",
       "</div>"
      ],
      "text/plain": [
       "             Zone       PC1       PC2       PC3\n",
       "0     Afghanistan -2.391792  0.126869 -0.501313\n",
       "1  Afrique du Sud  1.152403 -1.814173  1.392088\n",
       "2         Albanie -0.757669 -0.634682 -1.238930"
      ]
     },
     "execution_count": 182,
     "metadata": {},
     "output_type": "execute_result"
    }
   ],
   "source": [
    "new_components.head(3)"
   ]
  },
  {
   "cell_type": "markdown",
   "id": "7b8c99c3",
   "metadata": {},
   "source": [
    "### Liens entre les variables"
   ]
  },
  {
   "cell_type": "markdown",
   "id": "2e21f277",
   "metadata": {},
   "source": [
    "Nous devons comprendre la réduction en composantes principales en terme des variables initiales :"
   ]
  },
  {
   "cell_type": "markdown",
   "id": "307f3f87",
   "metadata": {},
   "source": [
    "Pour cela, on choisit de visualiser le cercle des corrélations pour chaque combinaison des composantes principales. En effet, on en a choisi trois, or le cercle est en deux dimensions, donc on réalise trois cercles pour voir toutes les décompositions."
   ]
  },
  {
   "cell_type": "code",
   "execution_count": 183,
   "id": "a501f0ff",
   "metadata": {},
   "outputs": [
    {
     "data": {
      "image/png": "[encoded data removed]",
      "text/plain": [
       "<Figure size 576x576 with 1 Axes>"
      ]
     },
     "metadata": {
      "needs_background": "light"
     },
     "output_type": "display_data"
    }
   ],
   "source": [
    "(fig, ax) = plt.subplots(figsize=(8, 8))\n",
    "for i in range(0, pca.components_.shape[1]):\n",
    "    ax.arrow(0, 0,  # Start the arrow at the origin\n",
    "             pca.components_[0, i],  #0 for PC1\n",
    "             pca.components_[1, i],  #1 for PC2\n",
    "             head_width=0.05,\n",
    "             head_length=0.05)\n",
    "\n",
    "    plt.text(pca.components_[0, i] + 0.05,\n",
    "             pca.components_[1, i] + 0.05,\n",
    "             data.drop(columns = {'Zone'}).columns.values[i])\n",
    "    \n",
    "plt.plot([-1, 1], [0, 0], color='grey', ls='--')\n",
    "plt.plot([0, 0], [-1, 1], color='grey', ls='--')\n",
    "\n",
    "an = np.linspace(0, 2 * np.pi, 100)\n",
    "plt.plot(np.cos(an), np.sin(an))  # Add a unit circle for scale\n",
    "plt.axis('equal')\n",
    "\n",
    "plt.xlabel(\"PC1\")\n",
    "plt.ylabel(\"PC2\")\n",
    "\n",
    "plt.title(\"Décomposition des variables en deux composantes principales\")\n",
    "plt.show()"
   ]
  },
  {
   "cell_type": "markdown",
   "id": "0c7e31e2",
   "metadata": {},
   "source": [
    "Dans un premier temps, on voit que la PC1 est négativement corrélée avec la proportion de consommation de volaille. On voit aussi que la PC2 est est assez corrélée avec la proportion de consommation de viande et la disponibilité alimentaire de volaille."
   ]
  },
  {
   "cell_type": "code",
   "execution_count": 184,
   "id": "35a6ba3f",
   "metadata": {},
   "outputs": [
    {
     "data": {
      "image/png": "[encoded data removed]",
      "text/plain": [
       "<Figure size 576x576 with 1 Axes>"
      ]
     },
     "metadata": {
      "needs_background": "light"
     },
     "output_type": "display_data"
    }
   ],
   "source": [
    "(fig, ax) = plt.subplots(figsize=(8, 8))\n",
    "for i in range(0, pca.components_.shape[1]):\n",
    "    ax.arrow(0, 0,\n",
    "             pca.components_[1, i],\n",
    "             pca.components_[2, i],\n",
    "             head_width=0.05,\n",
    "             head_length=0.05)\n",
    "\n",
    "    plt.text(pca.components_[1, i] + 0.05,\n",
    "             pca.components_[2, i] + 0.05,\n",
    "             data.drop(columns = {'Zone'}).columns.values[i])\n",
    "    \n",
    "plt.plot([-1, 1], [0, 0], color='grey', ls='--')\n",
    "plt.plot([0, 0], [-1, 1], color='grey', ls='--')\n",
    "\n",
    "an = np.linspace(0, 2 * np.pi, 100)\n",
    "plt.plot(np.cos(an), np.sin(an))  # Add a unit circle for scale\n",
    "plt.axis('equal')\n",
    "\n",
    "plt.xlabel(\"PC2\")\n",
    "plt.ylabel(\"PC3\")\n",
    "\n",
    "plt.title(\"Décomposition des variables en deux composantes principales\")\n",
    "plt.show()"
   ]
  },
  {
   "cell_type": "markdown",
   "id": "18f9da0d",
   "metadata": {},
   "source": [
    "On voit ici aussi une anti-corrélation entre la PC3 et la proportion de consommation de volaille, ainsi qu'une corrélation avec le PIB/habitant. En revanche, dans ce plan-là, on voit une corrélation entre la PC2 et la population, ainsi qu'une anti-corrélation avec le ratio importations/disponibilité et une corrélation avec le ratio productions/disponibilité."
   ]
  },
  {
   "cell_type": "code",
   "execution_count": 185,
   "id": "44d7346c",
   "metadata": {
    "scrolled": false
   },
   "outputs": [
    {
     "data": {
      "image/png": "[encoded data removed]",
      "text/plain": [
       "<Figure size 576x576 with 1 Axes>"
      ]
     },
     "metadata": {
      "needs_background": "light"
     },
     "output_type": "display_data"
    }
   ],
   "source": [
    "(fig, ax) = plt.subplots(figsize=(8, 8))\n",
    "for i in range(0, pca.components_.shape[1]):\n",
    "    ax.arrow(0, 0,  \n",
    "             pca.components_[0, i],  \n",
    "             pca.components_[2, i],  \n",
    "             head_width=0.05,\n",
    "             head_length=0.05)\n",
    "\n",
    "    plt.text(pca.components_[0, i] + 0.05,\n",
    "             pca.components_[2, i] + 0.05,\n",
    "             data.drop(columns = {'Zone'}).columns.values[i])\n",
    "    \n",
    "plt.plot([-1, 1], [0, 0], color='grey', ls='--')\n",
    "plt.plot([0, 0], [-1, 1], color='grey', ls='--')\n",
    "\n",
    "an = np.linspace(0, 2 * np.pi, 100)\n",
    "plt.plot(np.cos(an), np.sin(an))  # Add a unit circle for scale\n",
    "plt.axis('equal')\n",
    "\n",
    "plt.xlabel(\"PC1\")\n",
    "plt.ylabel(\"PC3\")\n",
    "\n",
    "plt.title(\"Décomposition des variables en deux composantes principales\")\n",
    "plt.show()"
   ]
  },
  {
   "cell_type": "markdown",
   "id": "f469f50c",
   "metadata": {},
   "source": [
    "Ici, on voit une corrélation entre la PC1 et la population et la production de volaille, ainsi qu'une anti-corrélation avec l'importation de volaille. De plus, on voit une corrélation entre la PC3 et la consommation de viande ainsi que la disponibilité de volaille."
   ]
  },
  {
   "cell_type": "markdown",
   "id": "b05313b1",
   "metadata": {},
   "source": [
    "Il est intéressant de voir que les différentes projections apportent différentes informations. Ainsi :"
   ]
  },
  {
   "cell_type": "markdown",
   "id": "6a39f84d",
   "metadata": {},
   "source": [
    "La PC1 est liée à des pays peuplés, qui produisent beaucoup et importent peu de volaille, et qui consomment peu de volaille."
   ]
  },
  {
   "cell_type": "markdown",
   "id": "5ff52bce",
   "metadata": {},
   "source": [
    "La PC2 est liée à des pays peuplés qui consomment beaucoup de viande et qui disposent de beaucoup de volaille, celle-ci étant plus produite localement qu'importée."
   ]
  },
  {
   "cell_type": "markdown",
   "id": "90c57e95",
   "metadata": {},
   "source": [
    "La PC3 est liée à des pays riches, qui consomment beaucoup de viande et qui disposent de beaucoup de volaille, mais qui en consomment peu."
   ]
  },
  {
   "cell_type": "markdown",
   "id": "373a14b2",
   "metadata": {},
   "source": [
    "### Comparaison des deux méthodes"
   ]
  },
  {
   "cell_type": "markdown",
   "id": "29b92143",
   "metadata": {},
   "source": [
    "Nous allons maintenant mettre les deux méthodes de clustering en perspective :"
   ]
  },
  {
   "cell_type": "code",
   "execution_count": 186,
   "id": "7bac12d7",
   "metadata": {},
   "outputs": [
    {
     "data": {
      "application/vnd.plotly.v1+json": {
       "config": {
        "plotlyServerURL": "https://plot.ly"
       },
       "data": [
        {
         "hovertemplate": "PC1=%{x}<br>PC2=%{y}<br>PC3=%{z}<br>color=%{marker.color}<extra></extra>",
         "legendgroup": "",
         "marker": {
          "color": [
           1,
           7,
           0,
           3,
           7,
           2,
           4,
           5,
           0,
           1,
           0,
           1,
           3,
           6,
           2,
           0,
           0,
           0,
           2,
           3,
           0,
           2,
           0,
           0,
           0,
           3,
           2,
           2,
           3,
           4,
           7,
           0,
           0,
           0,
           3,
           2,
           1,
           0,
           3,
           7,
           0,
           1,
           0,
           7,
           5,
           4,
           3,
           3,
           0,
           3,
           1,
           0,
           0,
           2,
           7,
           1,
           3
          ],
          "coloraxis": "coloraxis",
          "symbol": "circle"
         },
         "mode": "markers",
         "name": "",
         "scene": "scene",
         "showlegend": false,
         "type": "scatter3d",
         "x": [
          -2.3917921150795998,
          1.1524028565591204,
          -0.757669390785561,
          0.09543258335233441,
          1.8478907752291895,
          0.6399081872366894,
          -3.5035060726467684,
          0.12203645227132709,
          0.2332466080233214,
          -2.546630847711734,
          0.10403464466506579,
          -2.555051661046143,
          1.4515596318417443,
          5.554410092196232,
          3.3951809753440245,
          0.9111483651394737,
          0.2365097062987513,
          -0.7758135567960116,
          1.2507642645293917,
          0.5074511536553499,
          0.07460848257978825,
          -0.007739307945109353,
          1.074851440982845,
          -1.0142776588260325,
          -1.6466536009840582,
          0.4936826167932579,
          1.3631796429296341,
          1.583181547754264,
          -0.3424171336383921,
          -0.2500654113206304,
          0.5932684992616177,
          -0.3611709552986559,
          0.3074767946119269,
          -1.2577546853035286,
          0.42751949033222425,
          1.3579896699166192,
          -2.5114466523437753,
          1.094747802932829,
          -0.7082922621760772,
          1.4731025022919662,
          -0.9276599141736465,
          -3.3719217667192813,
          0.40142894921859934,
          1.1754448838473015,
          0.7663022407249799,
          -1.3891128061391933,
          0.347880894403208,
          0.5606388808456225,
          -0.5519605840234875,
          0.8560078946959013,
          -1.448885219194226,
          -1.9277793799728944,
          0.0053043551930709865,
          0.43574738696497417,
          1.0916672734508692,
          -1.9819179265556013,
          -0.7564886373931088
         ],
         "y": [
          0.12686852278016592,
          -1.8141728736098173,
          -0.6346821489692818,
          0.8507654741813155,
          -1.9171803902826403,
          1.17277878674851,
          -0.9923868178712316,
          3.4374280573924185,
          -0.37074502999225517,
          0.26162894571583545,
          -1.1908584408151066,
          -0.09498151237446656,
          -0.5398682296020982,
          0.4887466549103817,
          0.9249083998107395,
          -0.17919838623757228,
          -1.4452699110405445,
          1.2064222786567114,
          0.5449415966314677,
          0.7546837909181513,
          -0.06448257139376026,
          0.9696050012139591,
          -1.2098510857329932,
          -0.5088859123579603,
          -1.4362819718026074,
          0.5062049783073715,
          0.9888594499500293,
          0.9027104513383676,
          0.6784428031385441,
          -0.16290408621301056,
          -2.1634700494833394,
          -0.19447611846369445,
          0.21635500329659418,
          -0.7516077156423826,
          0.18283669306566652,
          2.715363343796404,
          0.9804848137382929,
          -0.14727103177860232,
          -1.6708156355279762,
          -2.168843706711341,
          0.49290921421140377,
          2.324295078666495,
          -1.037621014614278,
          -1.040183209474549,
          2.567762518857843,
          -0.871719866392523,
          0.25127479270007724,
          0.37611135052000344,
          -0.021463310879170916,
          -0.300591826393639,
          1.2370572172217236,
          -1.0725217567673087,
          0.6892199961268057,
          1.864984471110596,
          -2.347811907576931,
          -0.38888989845862854,
          -0.9746132685461647
         ],
         "z": [
          -0.5013129685568162,
          1.392087861902235,
          -1.238930032481576,
          1.5374070538925046,
          -0.07688478696537211,
          0.05501252978259685,
          2.6014960856525056,
          0.3037275802494422,
          -0.43530629459639625,
          -0.004600659284093665,
          -1.728730670528102,
          0.05722426899793383,
          1.378108350689426,
          -1.5021681318899436,
          -0.46401124848243214,
          -0.026883097816143935,
          -1.3760668224444554,
          0.08493788198263386,
          0.04048017591108014,
          0.8812665017085027,
          -0.5499797966048434,
          0.47096244863951653,
          -1.202831985202465,
          -2.511493519899895,
          -0.9960943527041638,
          1.289087016649452,
          0.007675191785602728,
          0.6258158477890011,
          1.499349410118834,
          2.4756731227644457,
          0.023414501291539304,
          -0.2934262925348435,
          -0.6404403089393376,
          -0.26586964557759996,
          0.42304843651100943,
          -1.6889871377695655,
          -0.3616437740875273,
          -0.5494679577444064,
          0.7503074960338334,
          0.5745941218444592,
          -1.5371537136084517,
          -1.4998002798237775,
          -1.4494658372213922,
          0.6384751927959369,
          1.2400952109646224,
          1.8252839668668872,
          2.1490275000846455,
          0.3411247866204813,
          0.25674435287618097,
          1.4792694512878823,
          -0.6430331731987161,
          -1.0704240412995931,
          -0.29662907982533954,
          -0.24363571470103793,
          -0.730090640454629,
          -1.481501683717676,
          0.9651673022673987
         ]
        }
       ],
       "layout": {
        "coloraxis": {
         "colorbar": {
          "title": {
           "text": "color"
          }
         },
         "colorscale": [
          [
           0,
           "#0d0887"
          ],
          [
           0.1111111111111111,
           "#46039f"
          ],
          [
           0.2222222222222222,
           "#7201a8"
          ],
          [
           0.3333333333333333,
           "#9c179e"
          ],
          [
           0.4444444444444444,
           "#bd3786"
          ],
          [
           0.5555555555555556,
           "#d8576b"
          ],
          [
           0.6666666666666666,
           "#ed7953"
          ],
          [
           0.7777777777777778,
           "#fb9f3a"
          ],
          [
           0.8888888888888888,
           "#fdca26"
          ],
          [
           1,
           "#f0f921"
          ]
         ]
        },
        "legend": {
         "tracegroupgap": 0
        },
        "margin": {
         "t": 60
        },
        "scene": {
         "domain": {
          "x": [
           0,
           1
          ],
          "y": [
           0,
           1
          ]
         },
         "xaxis": {
          "title": {
           "text": "PC1"
          }
         },
         "yaxis": {
          "title": {
           "text": "PC2"
          }
         },
         "zaxis": {
          "title": {
           "text": "PC3"
          }
         }
        },
        "template": {
         "data": {
          "bar": [
           {
            "error_x": {
             "color": "#2a3f5f"
            },
            "error_y": {
             "color": "#2a3f5f"
            },
            "marker": {
             "line": {
              "color": "#E5ECF6",
              "width": 0.5
             },
             "pattern": {
              "fillmode": "overlay",
              "size": 10,
              "solidity": 0.2
             }
            },
            "type": "bar"
           }
          ],
          "barpolar": [
           {
            "marker": {
             "line": {
              "color": "#E5ECF6",
              "width": 0.5
             },
             "pattern": {
              "fillmode": "overlay",
              "size": 10,
              "solidity": 0.2
             }
            },
            "type": "barpolar"
           }
          ],
          "carpet": [
           {
            "aaxis": {
             "endlinecolor": "#2a3f5f",
             "gridcolor": "white",
             "linecolor": "white",
             "minorgridcolor": "white",
             "startlinecolor": "#2a3f5f"
            },
            "baxis": {
             "endlinecolor": "#2a3f5f",
             "gridcolor": "white",
             "linecolor": "white",
             "minorgridcolor": "white",
             "startlinecolor": "#2a3f5f"
            },
            "type": "carpet"
           }
          ],
          "choropleth": [
           {
            "colorbar": {
             "outlinewidth": 0,
             "ticks": ""
            },
            "type": "choropleth"
           }
          ],
          "contour": [
           {
            "colorbar": {
             "outlinewidth": 0,
             "ticks": ""
            },
            "colorscale": [
             [
              0,
              "#0d0887"
             ],
             [
              0.1111111111111111,
              "#46039f"
             ],
             [
              0.2222222222222222,
              "#7201a8"
             ],
             [
              0.3333333333333333,
              "#9c179e"
             ],
             [
              0.4444444444444444,
              "#bd3786"
             ],
             [
              0.5555555555555556,
              "#d8576b"
             ],
             [
              0.6666666666666666,
              "#ed7953"
             ],
             [
              0.7777777777777778,
              "#fb9f3a"
             ],
             [
              0.8888888888888888,
              "#fdca26"
             ],
             [
              1,
              "#f0f921"
             ]
            ],
            "type": "contour"
           }
          ],
          "contourcarpet": [
           {
            "colorbar": {
             "outlinewidth": 0,
             "ticks": ""
            },
            "type": "contourcarpet"
           }
          ],
          "heatmap": [
           {
            "colorbar": {
             "outlinewidth": 0,
             "ticks": ""
            },
            "colorscale": [
             [
              0,
              "#0d0887"
             ],
             [
              0.1111111111111111,
              "#46039f"
             ],
             [
              0.2222222222222222,
              "#7201a8"
             ],
             [
              0.3333333333333333,
              "#9c179e"
             ],
             [
              0.4444444444444444,
              "#bd3786"
             ],
             [
              0.5555555555555556,
              "#d8576b"
             ],
             [
              0.6666666666666666,
              "#ed7953"
             ],
             [
              0.7777777777777778,
              "#fb9f3a"
             ],
             [
              0.8888888888888888,
              "#fdca26"
             ],
             [
              1,
              "#f0f921"
             ]
            ],
            "type": "heatmap"
           }
          ],
          "heatmapgl": [
           {
            "colorbar": {
             "outlinewidth": 0,
             "ticks": ""
            },
            "colorscale": [
             [
              0,
              "#0d0887"
             ],
             [
              0.1111111111111111,
              "#46039f"
             ],
             [
              0.2222222222222222,
              "#7201a8"
             ],
             [
              0.3333333333333333,
              "#9c179e"
             ],
             [
              0.4444444444444444,
              "#bd3786"
             ],
             [
              0.5555555555555556,
              "#d8576b"
             ],
             [
              0.6666666666666666,
              "#ed7953"
             ],
             [
              0.7777777777777778,
              "#fb9f3a"
             ],
             [
              0.8888888888888888,
              "#fdca26"
             ],
             [
              1,
              "#f0f921"
             ]
            ],
            "type": "heatmapgl"
           }
          ],
          "histogram": [
           {
            "marker": {
             "pattern": {
              "fillmode": "overlay",
              "size": 10,
              "solidity": 0.2
             }
            },
            "type": "histogram"
           }
          ],
          "histogram2d": [
           {
            "colorbar": {
             "outlinewidth": 0,
             "ticks": ""
            },
            "colorscale": [
             [
              0,
              "#0d0887"
             ],
             [
              0.1111111111111111,
              "#46039f"
             ],
             [
              0.2222222222222222,
              "#7201a8"
             ],
             [
              0.3333333333333333,
              "#9c179e"
             ],
             [
              0.4444444444444444,
              "#bd3786"
             ],
             [
              0.5555555555555556,
              "#d8576b"
             ],
             [
              0.6666666666666666,
              "#ed7953"
             ],
             [
              0.7777777777777778,
              "#fb9f3a"
             ],
             [
              0.8888888888888888,
              "#fdca26"
             ],
             [
              1,
              "#f0f921"
             ]
            ],
            "type": "histogram2d"
           }
          ],
          "histogram2dcontour": [
           {
            "colorbar": {
             "outlinewidth": 0,
             "ticks": ""
            },
            "colorscale": [
             [
              0,
              "#0d0887"
             ],
             [
              0.1111111111111111,
              "#46039f"
             ],
             [
              0.2222222222222222,
              "#7201a8"
             ],
             [
              0.3333333333333333,
              "#9c179e"
             ],
             [
              0.4444444444444444,
              "#bd3786"
             ],
             [
              0.5555555555555556,
              "#d8576b"
             ],
             [
              0.6666666666666666,
              "#ed7953"
             ],
             [
              0.7777777777777778,
              "#fb9f3a"
             ],
             [
              0.8888888888888888,
              "#fdca26"
             ],
             [
              1,
              "#f0f921"
             ]
            ],
            "type": "histogram2dcontour"
           }
          ],
          "mesh3d": [
           {
            "colorbar": {
             "outlinewidth": 0,
             "ticks": ""
            },
            "type": "mesh3d"
           }
          ],
          "parcoords": [
           {
            "line": {
             "colorbar": {
              "outlinewidth": 0,
              "ticks": ""
             }
            },
            "type": "parcoords"
           }
          ],
          "pie": [
           {
            "automargin": true,
            "type": "pie"
           }
          ],
          "scatter": [
           {
            "fillpattern": {
             "fillmode": "overlay",
             "size": 10,
             "solidity": 0.2
            },
            "type": "scatter"
           }
          ],
          "scatter3d": [
           {
            "line": {
             "colorbar": {
              "outlinewidth": 0,
              "ticks": ""
             }
            },
            "marker": {
             "colorbar": {
              "outlinewidth": 0,
              "ticks": ""
             }
            },
            "type": "scatter3d"
           }
          ],
          "scattercarpet": [
           {
            "marker": {
             "colorbar": {
              "outlinewidth": 0,
              "ticks": ""
             }
            },
            "type": "scattercarpet"
           }
          ],
          "scattergeo": [
           {
            "marker": {
             "colorbar": {
              "outlinewidth": 0,
              "ticks": ""
             }
            },
            "type": "scattergeo"
           }
          ],
          "scattergl": [
           {
            "marker": {
             "colorbar": {
              "outlinewidth": 0,
              "ticks": ""
             }
            },
            "type": "scattergl"
           }
          ],
          "scattermapbox": [
           {
            "marker": {
             "colorbar": {
              "outlinewidth": 0,
              "ticks": ""
             }
            },
            "type": "scattermapbox"
           }
          ],
          "scatterpolar": [
           {
            "marker": {
             "colorbar": {
              "outlinewidth": 0,
              "ticks": ""
             }
            },
            "type": "scatterpolar"
           }
          ],
          "scatterpolargl": [
           {
            "marker": {
             "colorbar": {
              "outlinewidth": 0,
              "ticks": ""
             }
            },
            "type": "scatterpolargl"
           }
          ],
          "scatterternary": [
           {
            "marker": {
             "colorbar": {
              "outlinewidth": 0,
              "ticks": ""
             }
            },
            "type": "scatterternary"
           }
          ],
          "surface": [
           {
            "colorbar": {
             "outlinewidth": 0,
             "ticks": ""
            },
            "colorscale": [
             [
              0,
              "#0d0887"
             ],
             [
              0.1111111111111111,
              "#46039f"
             ],
             [
              0.2222222222222222,
              "#7201a8"
             ],
             [
              0.3333333333333333,
              "#9c179e"
             ],
             [
              0.4444444444444444,
              "#bd3786"
             ],
             [
              0.5555555555555556,
              "#d8576b"
             ],
             [
              0.6666666666666666,
              "#ed7953"
             ],
             [
              0.7777777777777778,
              "#fb9f3a"
             ],
             [
              0.8888888888888888,
              "#fdca26"
             ],
             [
              1,
              "#f0f921"
             ]
            ],
            "type": "surface"
           }
          ],
          "table": [
           {
            "cells": {
             "fill": {
              "color": "#EBF0F8"
             },
             "line": {
              "color": "white"
             }
            },
            "header": {
             "fill": {
              "color": "#C8D4E3"
             },
             "line": {
              "color": "white"
             }
            },
            "type": "table"
           }
          ]
         },
         "layout": {
          "annotationdefaults": {
           "arrowcolor": "#2a3f5f",
           "arrowhead": 0,
           "arrowwidth": 1
          },
          "autotypenumbers": "strict",
          "coloraxis": {
           "colorbar": {
            "outlinewidth": 0,
            "ticks": ""
           }
          },
          "colorscale": {
           "diverging": [
            [
             0,
             "#8e0152"
            ],
            [
             0.1,
             "#c51b7d"
            ],
            [
             0.2,
             "#de77ae"
            ],
            [
             0.3,
             "#f1b6da"
            ],
            [
             0.4,
             "#fde0ef"
            ],
            [
             0.5,
             "#f7f7f7"
            ],
            [
             0.6,
             "#e6f5d0"
            ],
            [
             0.7,
             "#b8e186"
            ],
            [
             0.8,
             "#7fbc41"
            ],
            [
             0.9,
             "#4d9221"
            ],
            [
             1,
             "#276419"
            ]
           ],
           "sequential": [
            [
             0,
             "#0d0887"
            ],
            [
             0.1111111111111111,
             "#46039f"
            ],
            [
             0.2222222222222222,
             "#7201a8"
            ],
            [
             0.3333333333333333,
             "#9c179e"
            ],
            [
             0.4444444444444444,
             "#bd3786"
            ],
            [
             0.5555555555555556,
             "#d8576b"
            ],
            [
             0.6666666666666666,
             "#ed7953"
            ],
            [
             0.7777777777777778,
             "#fb9f3a"
            ],
            [
             0.8888888888888888,
             "#fdca26"
            ],
            [
             1,
             "#f0f921"
            ]
           ],
           "sequentialminus": [
            [
             0,
             "#0d0887"
            ],
            [
             0.1111111111111111,
             "#46039f"
            ],
            [
             0.2222222222222222,
             "#7201a8"
            ],
            [
             0.3333333333333333,
             "#9c179e"
            ],
            [
             0.4444444444444444,
             "#bd3786"
            ],
            [
             0.5555555555555556,
             "#d8576b"
            ],
            [
             0.6666666666666666,
             "#ed7953"
            ],
            [
             0.7777777777777778,
             "#fb9f3a"
            ],
            [
             0.8888888888888888,
             "#fdca26"
            ],
            [
             1,
             "#f0f921"
            ]
           ]
          },
          "colorway": [
           "#636efa",
           "#EF553B",
           "#00cc96",
           "#ab63fa",
           "#FFA15A",
           "#19d3f3",
           "#FF6692",
           "#B6E880",
           "#FF97FF",
           "#FECB52"
          ],
          "font": {
           "color": "#2a3f5f"
          },
          "geo": {
           "bgcolor": "white",
           "lakecolor": "white",
           "landcolor": "#E5ECF6",
           "showlakes": true,
           "showland": true,
           "subunitcolor": "white"
          },
          "hoverlabel": {
           "align": "left"
          },
          "hovermode": "closest",
          "mapbox": {
           "style": "light"
          },
          "paper_bgcolor": "white",
          "plot_bgcolor": "#E5ECF6",
          "polar": {
           "angularaxis": {
            "gridcolor": "white",
            "linecolor": "white",
            "ticks": ""
           },
           "bgcolor": "#E5ECF6",
           "radialaxis": {
            "gridcolor": "white",
            "linecolor": "white",
            "ticks": ""
           }
          },
          "scene": {
           "xaxis": {
            "backgroundcolor": "#E5ECF6",
            "gridcolor": "white",
            "gridwidth": 2,
            "linecolor": "white",
            "showbackground": true,
            "ticks": "",
            "zerolinecolor": "white"
           },
           "yaxis": {
            "backgroundcolor": "#E5ECF6",
            "gridcolor": "white",
            "gridwidth": 2,
            "linecolor": "white",
            "showbackground": true,
            "ticks": "",
            "zerolinecolor": "white"
           },
           "zaxis": {
            "backgroundcolor": "#E5ECF6",
            "gridcolor": "white",
            "gridwidth": 2,
            "linecolor": "white",
            "showbackground": true,
            "ticks": "",
            "zerolinecolor": "white"
           }
          },
          "shapedefaults": {
           "line": {
            "color": "#2a3f5f"
           }
          },
          "ternary": {
           "aaxis": {
            "gridcolor": "white",
            "linecolor": "white",
            "ticks": ""
           },
           "baxis": {
            "gridcolor": "white",
            "linecolor": "white",
            "ticks": ""
           },
           "bgcolor": "#E5ECF6",
           "caxis": {
            "gridcolor": "white",
            "linecolor": "white",
            "ticks": ""
           }
          },
          "title": {
           "x": 0.05
          },
          "xaxis": {
           "automargin": true,
           "gridcolor": "white",
           "linecolor": "white",
           "ticks": "",
           "title": {
            "standoff": 15
           },
           "zerolinecolor": "white",
           "zerolinewidth": 2
          },
          "yaxis": {
           "automargin": true,
           "gridcolor": "white",
           "linecolor": "white",
           "ticks": "",
           "title": {
            "standoff": 15
           },
           "zerolinecolor": "white",
           "zerolinewidth": 2
          }
         }
        }
       }
      },
      "text/html": [
       "<div>                            <div id=\"cafce9ab-5012-40a8-bfe4-728623764098\" class=\"plotly-graph-div\" style=\"height:525px; width:100%;\"></div>            <script type=\"text/javascript\">                require([\"plotly\"], function(Plotly) {                    window.PLOTLYENV=window.PLOTLYENV || {};                                    if (document.getElementById(\"cafce9ab-5012-40a8-bfe4-728623764098\")) {                    Plotly.newPlot(                        \"cafce9ab-5012-40a8-bfe4-728623764098\",                        [{\"hovertemplate\":\"PC1=%{x}<br>PC2=%{y}<br>PC3=%{z}<br>color=%{marker.color}<extra></extra>\",\"legendgroup\":\"\",\"marker\":{\"color\":[1,7,0,3,7,2,4,5,0,1,0,1,3,6,2,0,0,0,2,3,0,2,0,0,0,3,2,2,3,4,7,0,0,0,3,2,1,0,3,7,0,1,0,7,5,4,3,3,0,3,1,0,0,2,7,1,3],\"coloraxis\":\"coloraxis\",\"symbol\":\"circle\"},\"mode\":\"markers\",\"name\":\"\",\"scene\":\"scene\",\"showlegend\":false,\"x\":[-2.3917921150795998,1.1524028565591204,-0.757669390785561,0.09543258335233441,1.8478907752291895,0.6399081872366894,-3.5035060726467684,0.12203645227132709,0.2332466080233214,-2.546630847711734,0.10403464466506579,-2.555051661046143,1.4515596318417443,5.554410092196232,3.3951809753440245,0.9111483651394737,0.2365097062987513,-0.7758135567960116,1.2507642645293917,0.5074511536553499,0.07460848257978825,-0.007739307945109353,1.074851440982845,-1.0142776588260325,-1.6466536009840582,0.4936826167932579,1.3631796429296341,1.583181547754264,-0.3424171336383921,-0.2500654113206304,0.5932684992616177,-0.3611709552986559,0.3074767946119269,-1.2577546853035286,0.42751949033222425,1.3579896699166192,-2.5114466523437753,1.094747802932829,-0.7082922621760772,1.4731025022919662,-0.9276599141736465,-3.3719217667192813,0.40142894921859934,1.1754448838473015,0.7663022407249799,-1.3891128061391933,0.347880894403208,0.5606388808456225,-0.5519605840234875,0.8560078946959013,-1.448885219194226,-1.9277793799728944,0.0053043551930709865,0.43574738696497417,1.0916672734508692,-1.9819179265556013,-0.7564886373931088],\"y\":[0.12686852278016592,-1.8141728736098173,-0.6346821489692818,0.8507654741813155,-1.9171803902826403,1.17277878674851,-0.9923868178712316,3.4374280573924185,-0.37074502999225517,0.26162894571583545,-1.1908584408151066,-0.09498151237446656,-0.5398682296020982,0.4887466549103817,0.9249083998107395,-0.17919838623757228,-1.4452699110405445,1.2064222786567114,0.5449415966314677,0.7546837909181513,-0.06448257139376026,0.9696050012139591,-1.2098510857329932,-0.5088859123579603,-1.4362819718026074,0.5062049783073715,0.9888594499500293,0.9027104513383676,0.6784428031385441,-0.16290408621301056,-2.1634700494833394,-0.19447611846369445,0.21635500329659418,-0.7516077156423826,0.18283669306566652,2.715363343796404,0.9804848137382929,-0.14727103177860232,-1.6708156355279762,-2.168843706711341,0.49290921421140377,2.324295078666495,-1.037621014614278,-1.040183209474549,2.567762518857843,-0.871719866392523,0.25127479270007724,0.37611135052000344,-0.021463310879170916,-0.300591826393639,1.2370572172217236,-1.0725217567673087,0.6892199961268057,1.864984471110596,-2.347811907576931,-0.38888989845862854,-0.9746132685461647],\"z\":[-0.5013129685568162,1.392087861902235,-1.238930032481576,1.5374070538925046,-0.07688478696537211,0.05501252978259685,2.6014960856525056,0.3037275802494422,-0.43530629459639625,-0.004600659284093665,-1.728730670528102,0.05722426899793383,1.378108350689426,-1.5021681318899436,-0.46401124848243214,-0.026883097816143935,-1.3760668224444554,0.08493788198263386,0.04048017591108014,0.8812665017085027,-0.5499797966048434,0.47096244863951653,-1.202831985202465,-2.511493519899895,-0.9960943527041638,1.289087016649452,0.007675191785602728,0.6258158477890011,1.499349410118834,2.4756731227644457,0.023414501291539304,-0.2934262925348435,-0.6404403089393376,-0.26586964557759996,0.42304843651100943,-1.6889871377695655,-0.3616437740875273,-0.5494679577444064,0.7503074960338334,0.5745941218444592,-1.5371537136084517,-1.4998002798237775,-1.4494658372213922,0.6384751927959369,1.2400952109646224,1.8252839668668872,2.1490275000846455,0.3411247866204813,0.25674435287618097,1.4792694512878823,-0.6430331731987161,-1.0704240412995931,-0.29662907982533954,-0.24363571470103793,-0.730090640454629,-1.481501683717676,0.9651673022673987],\"type\":\"scatter3d\"}],                        {\"template\":{\"data\":{\"histogram2dcontour\":[{\"type\":\"histogram2dcontour\",\"colorbar\":{\"outlinewidth\":0,\"ticks\":\"\"},\"colorscale\":[[0.0,\"#0d0887\"],[0.1111111111111111,\"#46039f\"],[0.2222222222222222,\"#7201a8\"],[0.3333333333333333,\"#9c179e\"],[0.4444444444444444,\"#bd3786\"],[0.5555555555555556,\"#d8576b\"],[0.6666666666666666,\"#ed7953\"],[0.7777777777777778,\"#fb9f3a\"],[0.8888888888888888,\"#fdca26\"],[1.0,\"#f0f921\"]]}],\"choropleth\":[{\"type\":\"choropleth\",\"colorbar\":{\"outlinewidth\":0,\"ticks\":\"\"}}],\"histogram2d\":[{\"type\":\"histogram2d\",\"colorbar\":{\"outlinewidth\":0,\"ticks\":\"\"},\"colorscale\":[[0.0,\"#0d0887\"],[0.1111111111111111,\"#46039f\"],[0.2222222222222222,\"#7201a8\"],[0.3333333333333333,\"#9c179e\"],[0.4444444444444444,\"#bd3786\"],[0.5555555555555556,\"#d8576b\"],[0.6666666666666666,\"#ed7953\"],[0.7777777777777778,\"#fb9f3a\"],[0.8888888888888888,\"#fdca26\"],[1.0,\"#f0f921\"]]}],\"heatmap\":[{\"type\":\"heatmap\",\"colorbar\":{\"outlinewidth\":0,\"ticks\":\"\"},\"colorscale\":[[0.0,\"#0d0887\"],[0.1111111111111111,\"#46039f\"],[0.2222222222222222,\"#7201a8\"],[0.3333333333333333,\"#9c179e\"],[0.4444444444444444,\"#bd3786\"],[0.5555555555555556,\"#d8576b\"],[0.6666666666666666,\"#ed7953\"],[0.7777777777777778,\"#fb9f3a\"],[0.8888888888888888,\"#fdca26\"],[1.0,\"#f0f921\"]]}],\"heatmapgl\":[{\"type\":\"heatmapgl\",\"colorbar\":{\"outlinewidth\":0,\"ticks\":\"\"},\"colorscale\":[[0.0,\"#0d0887\"],[0.1111111111111111,\"#46039f\"],[0.2222222222222222,\"#7201a8\"],[0.3333333333333333,\"#9c179e\"],[0.4444444444444444,\"#bd3786\"],[0.5555555555555556,\"#d8576b\"],[0.6666666666666666,\"#ed7953\"],[0.7777777777777778,\"#fb9f3a\"],[0.8888888888888888,\"#fdca26\"],[1.0,\"#f0f921\"]]}],\"contourcarpet\":[{\"type\":\"contourcarpet\",\"colorbar\":{\"outlinewidth\":0,\"ticks\":\"\"}}],\"contour\":[{\"type\":\"contour\",\"colorbar\":{\"outlinewidth\":0,\"ticks\":\"\"},\"colorscale\":[[0.0,\"#0d0887\"],[0.1111111111111111,\"#46039f\"],[0.2222222222222222,\"#7201a8\"],[0.3333333333333333,\"#9c179e\"],[0.4444444444444444,\"#bd3786\"],[0.5555555555555556,\"#d8576b\"],[0.6666666666666666,\"#ed7953\"],[0.7777777777777778,\"#fb9f3a\"],[0.8888888888888888,\"#fdca26\"],[1.0,\"#f0f921\"]]}],\"surface\":[{\"type\":\"surface\",\"colorbar\":{\"outlinewidth\":0,\"ticks\":\"\"},\"colorscale\":[[0.0,\"#0d0887\"],[0.1111111111111111,\"#46039f\"],[0.2222222222222222,\"#7201a8\"],[0.3333333333333333,\"#9c179e\"],[0.4444444444444444,\"#bd3786\"],[0.5555555555555556,\"#d8576b\"],[0.6666666666666666,\"#ed7953\"],[0.7777777777777778,\"#fb9f3a\"],[0.8888888888888888,\"#fdca26\"],[1.0,\"#f0f921\"]]}],\"mesh3d\":[{\"type\":\"mesh3d\",\"colorbar\":{\"outlinewidth\":0,\"ticks\":\"\"}}],\"scatter\":[{\"fillpattern\":{\"fillmode\":\"overlay\",\"size\":10,\"solidity\":0.2},\"type\":\"scatter\"}],\"parcoords\":[{\"type\":\"parcoords\",\"line\":{\"colorbar\":{\"outlinewidth\":0,\"ticks\":\"\"}}}],\"scatterpolargl\":[{\"type\":\"scatterpolargl\",\"marker\":{\"colorbar\":{\"outlinewidth\":0,\"ticks\":\"\"}}}],\"bar\":[{\"error_x\":{\"color\":\"#2a3f5f\"},\"error_y\":{\"color\":\"#2a3f5f\"},\"marker\":{\"line\":{\"color\":\"#E5ECF6\",\"width\":0.5},\"pattern\":{\"fillmode\":\"overlay\",\"size\":10,\"solidity\":0.2}},\"type\":\"bar\"}],\"scattergeo\":[{\"type\":\"scattergeo\",\"marker\":{\"colorbar\":{\"outlinewidth\":0,\"ticks\":\"\"}}}],\"scatterpolar\":[{\"type\":\"scatterpolar\",\"marker\":{\"colorbar\":{\"outlinewidth\":0,\"ticks\":\"\"}}}],\"histogram\":[{\"marker\":{\"pattern\":{\"fillmode\":\"overlay\",\"size\":10,\"solidity\":0.2}},\"type\":\"histogram\"}],\"scattergl\":[{\"type\":\"scattergl\",\"marker\":{\"colorbar\":{\"outlinewidth\":0,\"ticks\":\"\"}}}],\"scatter3d\":[{\"type\":\"scatter3d\",\"line\":{\"colorbar\":{\"outlinewidth\":0,\"ticks\":\"\"}},\"marker\":{\"colorbar\":{\"outlinewidth\":0,\"ticks\":\"\"}}}],\"scattermapbox\":[{\"type\":\"scattermapbox\",\"marker\":{\"colorbar\":{\"outlinewidth\":0,\"ticks\":\"\"}}}],\"scatterternary\":[{\"type\":\"scatterternary\",\"marker\":{\"colorbar\":{\"outlinewidth\":0,\"ticks\":\"\"}}}],\"scattercarpet\":[{\"type\":\"scattercarpet\",\"marker\":{\"colorbar\":{\"outlinewidth\":0,\"ticks\":\"\"}}}],\"carpet\":[{\"aaxis\":{\"endlinecolor\":\"#2a3f5f\",\"gridcolor\":\"white\",\"linecolor\":\"white\",\"minorgridcolor\":\"white\",\"startlinecolor\":\"#2a3f5f\"},\"baxis\":{\"endlinecolor\":\"#2a3f5f\",\"gridcolor\":\"white\",\"linecolor\":\"white\",\"minorgridcolor\":\"white\",\"startlinecolor\":\"#2a3f5f\"},\"type\":\"carpet\"}],\"table\":[{\"cells\":{\"fill\":{\"color\":\"#EBF0F8\"},\"line\":{\"color\":\"white\"}},\"header\":{\"fill\":{\"color\":\"#C8D4E3\"},\"line\":{\"color\":\"white\"}},\"type\":\"table\"}],\"barpolar\":[{\"marker\":{\"line\":{\"color\":\"#E5ECF6\",\"width\":0.5},\"pattern\":{\"fillmode\":\"overlay\",\"size\":10,\"solidity\":0.2}},\"type\":\"barpolar\"}],\"pie\":[{\"automargin\":true,\"type\":\"pie\"}]},\"layout\":{\"autotypenumbers\":\"strict\",\"colorway\":[\"#636efa\",\"#EF553B\",\"#00cc96\",\"#ab63fa\",\"#FFA15A\",\"#19d3f3\",\"#FF6692\",\"#B6E880\",\"#FF97FF\",\"#FECB52\"],\"font\":{\"color\":\"#2a3f5f\"},\"hovermode\":\"closest\",\"hoverlabel\":{\"align\":\"left\"},\"paper_bgcolor\":\"white\",\"plot_bgcolor\":\"#E5ECF6\",\"polar\":{\"bgcolor\":\"#E5ECF6\",\"angularaxis\":{\"gridcolor\":\"white\",\"linecolor\":\"white\",\"ticks\":\"\"},\"radialaxis\":{\"gridcolor\":\"white\",\"linecolor\":\"white\",\"ticks\":\"\"}},\"ternary\":{\"bgcolor\":\"#E5ECF6\",\"aaxis\":{\"gridcolor\":\"white\",\"linecolor\":\"white\",\"ticks\":\"\"},\"baxis\":{\"gridcolor\":\"white\",\"linecolor\":\"white\",\"ticks\":\"\"},\"caxis\":{\"gridcolor\":\"white\",\"linecolor\":\"white\",\"ticks\":\"\"}},\"coloraxis\":{\"colorbar\":{\"outlinewidth\":0,\"ticks\":\"\"}},\"colorscale\":{\"sequential\":[[0.0,\"#0d0887\"],[0.1111111111111111,\"#46039f\"],[0.2222222222222222,\"#7201a8\"],[0.3333333333333333,\"#9c179e\"],[0.4444444444444444,\"#bd3786\"],[0.5555555555555556,\"#d8576b\"],[0.6666666666666666,\"#ed7953\"],[0.7777777777777778,\"#fb9f3a\"],[0.8888888888888888,\"#fdca26\"],[1.0,\"#f0f921\"]],\"sequentialminus\":[[0.0,\"#0d0887\"],[0.1111111111111111,\"#46039f\"],[0.2222222222222222,\"#7201a8\"],[0.3333333333333333,\"#9c179e\"],[0.4444444444444444,\"#bd3786\"],[0.5555555555555556,\"#d8576b\"],[0.6666666666666666,\"#ed7953\"],[0.7777777777777778,\"#fb9f3a\"],[0.8888888888888888,\"#fdca26\"],[1.0,\"#f0f921\"]],\"diverging\":[[0,\"#8e0152\"],[0.1,\"#c51b7d\"],[0.2,\"#de77ae\"],[0.3,\"#f1b6da\"],[0.4,\"#fde0ef\"],[0.5,\"#f7f7f7\"],[0.6,\"#e6f5d0\"],[0.7,\"#b8e186\"],[0.8,\"#7fbc41\"],[0.9,\"#4d9221\"],[1,\"#276419\"]]},\"xaxis\":{\"gridcolor\":\"white\",\"linecolor\":\"white\",\"ticks\":\"\",\"title\":{\"standoff\":15},\"zerolinecolor\":\"white\",\"automargin\":true,\"zerolinewidth\":2},\"yaxis\":{\"gridcolor\":\"white\",\"linecolor\":\"white\",\"ticks\":\"\",\"title\":{\"standoff\":15},\"zerolinecolor\":\"white\",\"automargin\":true,\"zerolinewidth\":2},\"scene\":{\"xaxis\":{\"backgroundcolor\":\"#E5ECF6\",\"gridcolor\":\"white\",\"linecolor\":\"white\",\"showbackground\":true,\"ticks\":\"\",\"zerolinecolor\":\"white\",\"gridwidth\":2},\"yaxis\":{\"backgroundcolor\":\"#E5ECF6\",\"gridcolor\":\"white\",\"linecolor\":\"white\",\"showbackground\":true,\"ticks\":\"\",\"zerolinecolor\":\"white\",\"gridwidth\":2},\"zaxis\":{\"backgroundcolor\":\"#E5ECF6\",\"gridcolor\":\"white\",\"linecolor\":\"white\",\"showbackground\":true,\"ticks\":\"\",\"zerolinecolor\":\"white\",\"gridwidth\":2}},\"shapedefaults\":{\"line\":{\"color\":\"#2a3f5f\"}},\"annotationdefaults\":{\"arrowcolor\":\"#2a3f5f\",\"arrowhead\":0,\"arrowwidth\":1},\"geo\":{\"bgcolor\":\"white\",\"landcolor\":\"#E5ECF6\",\"subunitcolor\":\"white\",\"showland\":true,\"showlakes\":true,\"lakecolor\":\"white\"},\"title\":{\"x\":0.05},\"mapbox\":{\"style\":\"light\"}}},\"scene\":{\"domain\":{\"x\":[0.0,1.0],\"y\":[0.0,1.0]},\"xaxis\":{\"title\":{\"text\":\"PC1\"}},\"yaxis\":{\"title\":{\"text\":\"PC2\"}},\"zaxis\":{\"title\":{\"text\":\"PC3\"}}},\"coloraxis\":{\"colorbar\":{\"title\":{\"text\":\"color\"}},\"colorscale\":[[0.0,\"#0d0887\"],[0.1111111111111111,\"#46039f\"],[0.2222222222222222,\"#7201a8\"],[0.3333333333333333,\"#9c179e\"],[0.4444444444444444,\"#bd3786\"],[0.5555555555555556,\"#d8576b\"],[0.6666666666666666,\"#ed7953\"],[0.7777777777777778,\"#fb9f3a\"],[0.8888888888888888,\"#fdca26\"],[1.0,\"#f0f921\"]]},\"legend\":{\"tracegroupgap\":0},\"margin\":{\"t\":60}},                        {\"responsive\": true}                    ).then(function(){\n",
       "                            \n",
       "var gd = document.getElementById('cafce9ab-5012-40a8-bfe4-728623764098');\n",
       "var x = new MutationObserver(function (mutations, observer) {{\n",
       "        var display = window.getComputedStyle(gd).display;\n",
       "        if (!display || display === 'none') {{\n",
       "            console.log([gd, 'removed!']);\n",
       "            Plotly.purge(gd);\n",
       "            observer.disconnect();\n",
       "        }}\n",
       "}});\n",
       "\n",
       "// Listen for the removal of the full notebook cells\n",
       "var notebookContainer = gd.closest('#notebook-container');\n",
       "if (notebookContainer) {{\n",
       "    x.observe(notebookContainer, {childList: true});\n",
       "}}\n",
       "\n",
       "// Listen for the clearing of the current output cell\n",
       "var outputEl = gd.closest('.output');\n",
       "if (outputEl) {{\n",
       "    x.observe(outputEl, {childList: true});\n",
       "}}\n",
       "\n",
       "                        })                };                });            </script>        </div>"
      ]
     },
     "metadata": {},
     "output_type": "display_data"
    }
   ],
   "source": [
    "fig = px.scatter_3d(new_components, x='PC1', y='PC2', z='PC3', color=cluster_cah.labels_)\n",
    "fig.show()"
   ]
  },
  {
   "cell_type": "code",
   "execution_count": 187,
   "id": "1e5a090a",
   "metadata": {
    "scrolled": false
   },
   "outputs": [
    {
     "data": {
      "application/vnd.plotly.v1+json": {
       "config": {
        "plotlyServerURL": "https://plot.ly"
       },
       "data": [
        {
         "hovertemplate": "PC1=%{x}<br>PC2=%{y}<br>PC3=%{z}<br>color=%{marker.color}<extra></extra>",
         "legendgroup": "",
         "marker": {
          "color": [
           0,
           3,
           0,
           1,
           3,
           2,
           1,
           5,
           4,
           0,
           4,
           0,
           3,
           6,
           2,
           4,
           4,
           0,
           2,
           1,
           4,
           2,
           4,
           0,
           0,
           4,
           2,
           2,
           1,
           1,
           3,
           4,
           4,
           0,
           4,
           2,
           0,
           4,
           3,
           3,
           0,
           7,
           4,
           3,
           5,
           1,
           4,
           4,
           4,
           1,
           7,
           0,
           4,
           2,
           3,
           7,
           4
          ],
          "coloraxis": "coloraxis",
          "symbol": "circle"
         },
         "mode": "markers",
         "name": "",
         "scene": "scene",
         "showlegend": false,
         "type": "scatter3d",
         "x": [
          -2.3917921150795998,
          1.1524028565591204,
          -0.757669390785561,
          0.09543258335233441,
          1.8478907752291895,
          0.6399081872366894,
          -3.5035060726467684,
          0.12203645227132709,
          0.2332466080233214,
          -2.546630847711734,
          0.10403464466506579,
          -2.555051661046143,
          1.4515596318417443,
          5.554410092196232,
          3.3951809753440245,
          0.9111483651394737,
          0.2365097062987513,
          -0.7758135567960116,
          1.2507642645293917,
          0.5074511536553499,
          0.07460848257978825,
          -0.007739307945109353,
          1.074851440982845,
          -1.0142776588260325,
          -1.6466536009840582,
          0.4936826167932579,
          1.3631796429296341,
          1.583181547754264,
          -0.3424171336383921,
          -0.2500654113206304,
          0.5932684992616177,
          -0.3611709552986559,
          0.3074767946119269,
          -1.2577546853035286,
          0.42751949033222425,
          1.3579896699166192,
          -2.5114466523437753,
          1.094747802932829,
          -0.7082922621760772,
          1.4731025022919662,
          -0.9276599141736465,
          -3.3719217667192813,
          0.40142894921859934,
          1.1754448838473015,
          0.7663022407249799,
          -1.3891128061391933,
          0.347880894403208,
          0.5606388808456225,
          -0.5519605840234875,
          0.8560078946959013,
          -1.448885219194226,
          -1.9277793799728944,
          0.0053043551930709865,
          0.43574738696497417,
          1.0916672734508692,
          -1.9819179265556013,
          -0.7564886373931088
         ],
         "y": [
          0.12686852278016592,
          -1.8141728736098173,
          -0.6346821489692818,
          0.8507654741813155,
          -1.9171803902826403,
          1.17277878674851,
          -0.9923868178712316,
          3.4374280573924185,
          -0.37074502999225517,
          0.26162894571583545,
          -1.1908584408151066,
          -0.09498151237446656,
          -0.5398682296020982,
          0.4887466549103817,
          0.9249083998107395,
          -0.17919838623757228,
          -1.4452699110405445,
          1.2064222786567114,
          0.5449415966314677,
          0.7546837909181513,
          -0.06448257139376026,
          0.9696050012139591,
          -1.2098510857329932,
          -0.5088859123579603,
          -1.4362819718026074,
          0.5062049783073715,
          0.9888594499500293,
          0.9027104513383676,
          0.6784428031385441,
          -0.16290408621301056,
          -2.1634700494833394,
          -0.19447611846369445,
          0.21635500329659418,
          -0.7516077156423826,
          0.18283669306566652,
          2.715363343796404,
          0.9804848137382929,
          -0.14727103177860232,
          -1.6708156355279762,
          -2.168843706711341,
          0.49290921421140377,
          2.324295078666495,
          -1.037621014614278,
          -1.040183209474549,
          2.567762518857843,
          -0.871719866392523,
          0.25127479270007724,
          0.37611135052000344,
          -0.021463310879170916,
          -0.300591826393639,
          1.2370572172217236,
          -1.0725217567673087,
          0.6892199961268057,
          1.864984471110596,
          -2.347811907576931,
          -0.38888989845862854,
          -0.9746132685461647
         ],
         "z": [
          -0.5013129685568162,
          1.392087861902235,
          -1.238930032481576,
          1.5374070538925046,
          -0.07688478696537211,
          0.05501252978259685,
          2.6014960856525056,
          0.3037275802494422,
          -0.43530629459639625,
          -0.004600659284093665,
          -1.728730670528102,
          0.05722426899793383,
          1.378108350689426,
          -1.5021681318899436,
          -0.46401124848243214,
          -0.026883097816143935,
          -1.3760668224444554,
          0.08493788198263386,
          0.04048017591108014,
          0.8812665017085027,
          -0.5499797966048434,
          0.47096244863951653,
          -1.202831985202465,
          -2.511493519899895,
          -0.9960943527041638,
          1.289087016649452,
          0.007675191785602728,
          0.6258158477890011,
          1.499349410118834,
          2.4756731227644457,
          0.023414501291539304,
          -0.2934262925348435,
          -0.6404403089393376,
          -0.26586964557759996,
          0.42304843651100943,
          -1.6889871377695655,
          -0.3616437740875273,
          -0.5494679577444064,
          0.7503074960338334,
          0.5745941218444592,
          -1.5371537136084517,
          -1.4998002798237775,
          -1.4494658372213922,
          0.6384751927959369,
          1.2400952109646224,
          1.8252839668668872,
          2.1490275000846455,
          0.3411247866204813,
          0.25674435287618097,
          1.4792694512878823,
          -0.6430331731987161,
          -1.0704240412995931,
          -0.29662907982533954,
          -0.24363571470103793,
          -0.730090640454629,
          -1.481501683717676,
          0.9651673022673987
         ]
        }
       ],
       "layout": {
        "coloraxis": {
         "colorbar": {
          "title": {
           "text": "color"
          }
         },
         "colorscale": [
          [
           0,
           "#0d0887"
          ],
          [
           0.1111111111111111,
           "#46039f"
          ],
          [
           0.2222222222222222,
           "#7201a8"
          ],
          [
           0.3333333333333333,
           "#9c179e"
          ],
          [
           0.4444444444444444,
           "#bd3786"
          ],
          [
           0.5555555555555556,
           "#d8576b"
          ],
          [
           0.6666666666666666,
           "#ed7953"
          ],
          [
           0.7777777777777778,
           "#fb9f3a"
          ],
          [
           0.8888888888888888,
           "#fdca26"
          ],
          [
           1,
           "#f0f921"
          ]
         ]
        },
        "legend": {
         "tracegroupgap": 0
        },
        "margin": {
         "t": 60
        },
        "scene": {
         "domain": {
          "x": [
           0,
           1
          ],
          "y": [
           0,
           1
          ]
         },
         "xaxis": {
          "title": {
           "text": "PC1"
          }
         },
         "yaxis": {
          "title": {
           "text": "PC2"
          }
         },
         "zaxis": {
          "title": {
           "text": "PC3"
          }
         }
        },
        "template": {
         "data": {
          "bar": [
           {
            "error_x": {
             "color": "#2a3f5f"
            },
            "error_y": {
             "color": "#2a3f5f"
            },
            "marker": {
             "line": {
              "color": "#E5ECF6",
              "width": 0.5
             },
             "pattern": {
              "fillmode": "overlay",
              "size": 10,
              "solidity": 0.2
             }
            },
            "type": "bar"
           }
          ],
          "barpolar": [
           {
            "marker": {
             "line": {
              "color": "#E5ECF6",
              "width": 0.5
             },
             "pattern": {
              "fillmode": "overlay",
              "size": 10,
              "solidity": 0.2
             }
            },
            "type": "barpolar"
           }
          ],
          "carpet": [
           {
            "aaxis": {
             "endlinecolor": "#2a3f5f",
             "gridcolor": "white",
             "linecolor": "white",
             "minorgridcolor": "white",
             "startlinecolor": "#2a3f5f"
            },
            "baxis": {
             "endlinecolor": "#2a3f5f",
             "gridcolor": "white",
             "linecolor": "white",
             "minorgridcolor": "white",
             "startlinecolor": "#2a3f5f"
            },
            "type": "carpet"
           }
          ],
          "choropleth": [
           {
            "colorbar": {
             "outlinewidth": 0,
             "ticks": ""
            },
            "type": "choropleth"
           }
          ],
          "contour": [
           {
            "colorbar": {
             "outlinewidth": 0,
             "ticks": ""
            },
            "colorscale": [
             [
              0,
              "#0d0887"
             ],
             [
              0.1111111111111111,
              "#46039f"
             ],
             [
              0.2222222222222222,
              "#7201a8"
             ],
             [
              0.3333333333333333,
              "#9c179e"
             ],
             [
              0.4444444444444444,
              "#bd3786"
             ],
             [
              0.5555555555555556,
              "#d8576b"
             ],
             [
              0.6666666666666666,
              "#ed7953"
             ],
             [
              0.7777777777777778,
              "#fb9f3a"
             ],
             [
              0.8888888888888888,
              "#fdca26"
             ],
             [
              1,
              "#f0f921"
             ]
            ],
            "type": "contour"
           }
          ],
          "contourcarpet": [
           {
            "colorbar": {
             "outlinewidth": 0,
             "ticks": ""
            },
            "type": "contourcarpet"
           }
          ],
          "heatmap": [
           {
            "colorbar": {
             "outlinewidth": 0,
             "ticks": ""
            },
            "colorscale": [
             [
              0,
              "#0d0887"
             ],
             [
              0.1111111111111111,
              "#46039f"
             ],
             [
              0.2222222222222222,
              "#7201a8"
             ],
             [
              0.3333333333333333,
              "#9c179e"
             ],
             [
              0.4444444444444444,
              "#bd3786"
             ],
             [
              0.5555555555555556,
              "#d8576b"
             ],
             [
              0.6666666666666666,
              "#ed7953"
             ],
             [
              0.7777777777777778,
              "#fb9f3a"
             ],
             [
              0.8888888888888888,
              "#fdca26"
             ],
             [
              1,
              "#f0f921"
             ]
            ],
            "type": "heatmap"
           }
          ],
          "heatmapgl": [
           {
            "colorbar": {
             "outlinewidth": 0,
             "ticks": ""
            },
            "colorscale": [
             [
              0,
              "#0d0887"
             ],
             [
              0.1111111111111111,
              "#46039f"
             ],
             [
              0.2222222222222222,
              "#7201a8"
             ],
             [
              0.3333333333333333,
              "#9c179e"
             ],
             [
              0.4444444444444444,
              "#bd3786"
             ],
             [
              0.5555555555555556,
              "#d8576b"
             ],
             [
              0.6666666666666666,
              "#ed7953"
             ],
             [
              0.7777777777777778,
              "#fb9f3a"
             ],
             [
              0.8888888888888888,
              "#fdca26"
             ],
             [
              1,
              "#f0f921"
             ]
            ],
            "type": "heatmapgl"
           }
          ],
          "histogram": [
           {
            "marker": {
             "pattern": {
              "fillmode": "overlay",
              "size": 10,
              "solidity": 0.2
             }
            },
            "type": "histogram"
           }
          ],
          "histogram2d": [
           {
            "colorbar": {
             "outlinewidth": 0,
             "ticks": ""
            },
            "colorscale": [
             [
              0,
              "#0d0887"
             ],
             [
              0.1111111111111111,
              "#46039f"
             ],
             [
              0.2222222222222222,
              "#7201a8"
             ],
             [
              0.3333333333333333,
              "#9c179e"
             ],
             [
              0.4444444444444444,
              "#bd3786"
             ],
             [
              0.5555555555555556,
              "#d8576b"
             ],
             [
              0.6666666666666666,
              "#ed7953"
             ],
             [
              0.7777777777777778,
              "#fb9f3a"
             ],
             [
              0.8888888888888888,
              "#fdca26"
             ],
             [
              1,
              "#f0f921"
             ]
            ],
            "type": "histogram2d"
           }
          ],
          "histogram2dcontour": [
           {
            "colorbar": {
             "outlinewidth": 0,
             "ticks": ""
            },
            "colorscale": [
             [
              0,
              "#0d0887"
             ],
             [
              0.1111111111111111,
              "#46039f"
             ],
             [
              0.2222222222222222,
              "#7201a8"
             ],
             [
              0.3333333333333333,
              "#9c179e"
             ],
             [
              0.4444444444444444,
              "#bd3786"
             ],
             [
              0.5555555555555556,
              "#d8576b"
             ],
             [
              0.6666666666666666,
              "#ed7953"
             ],
             [
              0.7777777777777778,
              "#fb9f3a"
             ],
             [
              0.8888888888888888,
              "#fdca26"
             ],
             [
              1,
              "#f0f921"
             ]
            ],
            "type": "histogram2dcontour"
           }
          ],
          "mesh3d": [
           {
            "colorbar": {
             "outlinewidth": 0,
             "ticks": ""
            },
            "type": "mesh3d"
           }
          ],
          "parcoords": [
           {
            "line": {
             "colorbar": {
              "outlinewidth": 0,
              "ticks": ""
             }
            },
            "type": "parcoords"
           }
          ],
          "pie": [
           {
            "automargin": true,
            "type": "pie"
           }
          ],
          "scatter": [
           {
            "fillpattern": {
             "fillmode": "overlay",
             "size": 10,
             "solidity": 0.2
            },
            "type": "scatter"
           }
          ],
          "scatter3d": [
           {
            "line": {
             "colorbar": {
              "outlinewidth": 0,
              "ticks": ""
             }
            },
            "marker": {
             "colorbar": {
              "outlinewidth": 0,
              "ticks": ""
             }
            },
            "type": "scatter3d"
           }
          ],
          "scattercarpet": [
           {
            "marker": {
             "colorbar": {
              "outlinewidth": 0,
              "ticks": ""
             }
            },
            "type": "scattercarpet"
           }
          ],
          "scattergeo": [
           {
            "marker": {
             "colorbar": {
              "outlinewidth": 0,
              "ticks": ""
             }
            },
            "type": "scattergeo"
           }
          ],
          "scattergl": [
           {
            "marker": {
             "colorbar": {
              "outlinewidth": 0,
              "ticks": ""
             }
            },
            "type": "scattergl"
           }
          ],
          "scattermapbox": [
           {
            "marker": {
             "colorbar": {
              "outlinewidth": 0,
              "ticks": ""
             }
            },
            "type": "scattermapbox"
           }
          ],
          "scatterpolar": [
           {
            "marker": {
             "colorbar": {
              "outlinewidth": 0,
              "ticks": ""
             }
            },
            "type": "scatterpolar"
           }
          ],
          "scatterpolargl": [
           {
            "marker": {
             "colorbar": {
              "outlinewidth": 0,
              "ticks": ""
             }
            },
            "type": "scatterpolargl"
           }
          ],
          "scatterternary": [
           {
            "marker": {
             "colorbar": {
              "outlinewidth": 0,
              "ticks": ""
             }
            },
            "type": "scatterternary"
           }
          ],
          "surface": [
           {
            "colorbar": {
             "outlinewidth": 0,
             "ticks": ""
            },
            "colorscale": [
             [
              0,
              "#0d0887"
             ],
             [
              0.1111111111111111,
              "#46039f"
             ],
             [
              0.2222222222222222,
              "#7201a8"
             ],
             [
              0.3333333333333333,
              "#9c179e"
             ],
             [
              0.4444444444444444,
              "#bd3786"
             ],
             [
              0.5555555555555556,
              "#d8576b"
             ],
             [
              0.6666666666666666,
              "#ed7953"
             ],
             [
              0.7777777777777778,
              "#fb9f3a"
             ],
             [
              0.8888888888888888,
              "#fdca26"
             ],
             [
              1,
              "#f0f921"
             ]
            ],
            "type": "surface"
           }
          ],
          "table": [
           {
            "cells": {
             "fill": {
              "color": "#EBF0F8"
             },
             "line": {
              "color": "white"
             }
            },
            "header": {
             "fill": {
              "color": "#C8D4E3"
             },
             "line": {
              "color": "white"
             }
            },
            "type": "table"
           }
          ]
         },
         "layout": {
          "annotationdefaults": {
           "arrowcolor": "#2a3f5f",
           "arrowhead": 0,
           "arrowwidth": 1
          },
          "autotypenumbers": "strict",
          "coloraxis": {
           "colorbar": {
            "outlinewidth": 0,
            "ticks": ""
           }
          },
          "colorscale": {
           "diverging": [
            [
             0,
             "#8e0152"
            ],
            [
             0.1,
             "#c51b7d"
            ],
            [
             0.2,
             "#de77ae"
            ],
            [
             0.3,
             "#f1b6da"
            ],
            [
             0.4,
             "#fde0ef"
            ],
            [
             0.5,
             "#f7f7f7"
            ],
            [
             0.6,
             "#e6f5d0"
            ],
            [
             0.7,
             "#b8e186"
            ],
            [
             0.8,
             "#7fbc41"
            ],
            [
             0.9,
             "#4d9221"
            ],
            [
             1,
             "#276419"
            ]
           ],
           "sequential": [
            [
             0,
             "#0d0887"
            ],
            [
             0.1111111111111111,
             "#46039f"
            ],
            [
             0.2222222222222222,
             "#7201a8"
            ],
            [
             0.3333333333333333,
             "#9c179e"
            ],
            [
             0.4444444444444444,
             "#bd3786"
            ],
            [
             0.5555555555555556,
             "#d8576b"
            ],
            [
             0.6666666666666666,
             "#ed7953"
            ],
            [
             0.7777777777777778,
             "#fb9f3a"
            ],
            [
             0.8888888888888888,
             "#fdca26"
            ],
            [
             1,
             "#f0f921"
            ]
           ],
           "sequentialminus": [
            [
             0,
             "#0d0887"
            ],
            [
             0.1111111111111111,
             "#46039f"
            ],
            [
             0.2222222222222222,
             "#7201a8"
            ],
            [
             0.3333333333333333,
             "#9c179e"
            ],
            [
             0.4444444444444444,
             "#bd3786"
            ],
            [
             0.5555555555555556,
             "#d8576b"
            ],
            [
             0.6666666666666666,
             "#ed7953"
            ],
            [
             0.7777777777777778,
             "#fb9f3a"
            ],
            [
             0.8888888888888888,
             "#fdca26"
            ],
            [
             1,
             "#f0f921"
            ]
           ]
          },
          "colorway": [
           "#636efa",
           "#EF553B",
           "#00cc96",
           "#ab63fa",
           "#FFA15A",
           "#19d3f3",
           "#FF6692",
           "#B6E880",
           "#FF97FF",
           "#FECB52"
          ],
          "font": {
           "color": "#2a3f5f"
          },
          "geo": {
           "bgcolor": "white",
           "lakecolor": "white",
           "landcolor": "#E5ECF6",
           "showlakes": true,
           "showland": true,
           "subunitcolor": "white"
          },
          "hoverlabel": {
           "align": "left"
          },
          "hovermode": "closest",
          "mapbox": {
           "style": "light"
          },
          "paper_bgcolor": "white",
          "plot_bgcolor": "#E5ECF6",
          "polar": {
           "angularaxis": {
            "gridcolor": "white",
            "linecolor": "white",
            "ticks": ""
           },
           "bgcolor": "#E5ECF6",
           "radialaxis": {
            "gridcolor": "white",
            "linecolor": "white",
            "ticks": ""
           }
          },
          "scene": {
           "xaxis": {
            "backgroundcolor": "#E5ECF6",
            "gridcolor": "white",
            "gridwidth": 2,
            "linecolor": "white",
            "showbackground": true,
            "ticks": "",
            "zerolinecolor": "white"
           },
           "yaxis": {
            "backgroundcolor": "#E5ECF6",
            "gridcolor": "white",
            "gridwidth": 2,
            "linecolor": "white",
            "showbackground": true,
            "ticks": "",
            "zerolinecolor": "white"
           },
           "zaxis": {
            "backgroundcolor": "#E5ECF6",
            "gridcolor": "white",
            "gridwidth": 2,
            "linecolor": "white",
            "showbackground": true,
            "ticks": "",
            "zerolinecolor": "white"
           }
          },
          "shapedefaults": {
           "line": {
            "color": "#2a3f5f"
           }
          },
          "ternary": {
           "aaxis": {
            "gridcolor": "white",
            "linecolor": "white",
            "ticks": ""
           },
           "baxis": {
            "gridcolor": "white",
            "linecolor": "white",
            "ticks": ""
           },
           "bgcolor": "#E5ECF6",
           "caxis": {
            "gridcolor": "white",
            "linecolor": "white",
            "ticks": ""
           }
          },
          "title": {
           "x": 0.05
          },
          "xaxis": {
           "automargin": true,
           "gridcolor": "white",
           "linecolor": "white",
           "ticks": "",
           "title": {
            "standoff": 15
           },
           "zerolinecolor": "white",
           "zerolinewidth": 2
          },
          "yaxis": {
           "automargin": true,
           "gridcolor": "white",
           "linecolor": "white",
           "ticks": "",
           "title": {
            "standoff": 15
           },
           "zerolinecolor": "white",
           "zerolinewidth": 2
          }
         }
        }
       }
      },
      "text/html": [
       "<div>                            <div id=\"8ab6d55b-0d01-4b65-bd99-a18c1d18e831\" class=\"plotly-graph-div\" style=\"height:525px; width:100%;\"></div>            <script type=\"text/javascript\">                require([\"plotly\"], function(Plotly) {                    window.PLOTLYENV=window.PLOTLYENV || {};                                    if (document.getElementById(\"8ab6d55b-0d01-4b65-bd99-a18c1d18e831\")) {                    Plotly.newPlot(                        \"8ab6d55b-0d01-4b65-bd99-a18c1d18e831\",                        [{\"hovertemplate\":\"PC1=%{x}<br>PC2=%{y}<br>PC3=%{z}<br>color=%{marker.color}<extra></extra>\",\"legendgroup\":\"\",\"marker\":{\"color\":[0,3,0,1,3,2,1,5,4,0,4,0,3,6,2,4,4,0,2,1,4,2,4,0,0,4,2,2,1,1,3,4,4,0,4,2,0,4,3,3,0,7,4,3,5,1,4,4,4,1,7,0,4,2,3,7,4],\"coloraxis\":\"coloraxis\",\"symbol\":\"circle\"},\"mode\":\"markers\",\"name\":\"\",\"scene\":\"scene\",\"showlegend\":false,\"x\":[-2.3917921150795998,1.1524028565591204,-0.757669390785561,0.09543258335233441,1.8478907752291895,0.6399081872366894,-3.5035060726467684,0.12203645227132709,0.2332466080233214,-2.546630847711734,0.10403464466506579,-2.555051661046143,1.4515596318417443,5.554410092196232,3.3951809753440245,0.9111483651394737,0.2365097062987513,-0.7758135567960116,1.2507642645293917,0.5074511536553499,0.07460848257978825,-0.007739307945109353,1.074851440982845,-1.0142776588260325,-1.6466536009840582,0.4936826167932579,1.3631796429296341,1.583181547754264,-0.3424171336383921,-0.2500654113206304,0.5932684992616177,-0.3611709552986559,0.3074767946119269,-1.2577546853035286,0.42751949033222425,1.3579896699166192,-2.5114466523437753,1.094747802932829,-0.7082922621760772,1.4731025022919662,-0.9276599141736465,-3.3719217667192813,0.40142894921859934,1.1754448838473015,0.7663022407249799,-1.3891128061391933,0.347880894403208,0.5606388808456225,-0.5519605840234875,0.8560078946959013,-1.448885219194226,-1.9277793799728944,0.0053043551930709865,0.43574738696497417,1.0916672734508692,-1.9819179265556013,-0.7564886373931088],\"y\":[0.12686852278016592,-1.8141728736098173,-0.6346821489692818,0.8507654741813155,-1.9171803902826403,1.17277878674851,-0.9923868178712316,3.4374280573924185,-0.37074502999225517,0.26162894571583545,-1.1908584408151066,-0.09498151237446656,-0.5398682296020982,0.4887466549103817,0.9249083998107395,-0.17919838623757228,-1.4452699110405445,1.2064222786567114,0.5449415966314677,0.7546837909181513,-0.06448257139376026,0.9696050012139591,-1.2098510857329932,-0.5088859123579603,-1.4362819718026074,0.5062049783073715,0.9888594499500293,0.9027104513383676,0.6784428031385441,-0.16290408621301056,-2.1634700494833394,-0.19447611846369445,0.21635500329659418,-0.7516077156423826,0.18283669306566652,2.715363343796404,0.9804848137382929,-0.14727103177860232,-1.6708156355279762,-2.168843706711341,0.49290921421140377,2.324295078666495,-1.037621014614278,-1.040183209474549,2.567762518857843,-0.871719866392523,0.25127479270007724,0.37611135052000344,-0.021463310879170916,-0.300591826393639,1.2370572172217236,-1.0725217567673087,0.6892199961268057,1.864984471110596,-2.347811907576931,-0.38888989845862854,-0.9746132685461647],\"z\":[-0.5013129685568162,1.392087861902235,-1.238930032481576,1.5374070538925046,-0.07688478696537211,0.05501252978259685,2.6014960856525056,0.3037275802494422,-0.43530629459639625,-0.004600659284093665,-1.728730670528102,0.05722426899793383,1.378108350689426,-1.5021681318899436,-0.46401124848243214,-0.026883097816143935,-1.3760668224444554,0.08493788198263386,0.04048017591108014,0.8812665017085027,-0.5499797966048434,0.47096244863951653,-1.202831985202465,-2.511493519899895,-0.9960943527041638,1.289087016649452,0.007675191785602728,0.6258158477890011,1.499349410118834,2.4756731227644457,0.023414501291539304,-0.2934262925348435,-0.6404403089393376,-0.26586964557759996,0.42304843651100943,-1.6889871377695655,-0.3616437740875273,-0.5494679577444064,0.7503074960338334,0.5745941218444592,-1.5371537136084517,-1.4998002798237775,-1.4494658372213922,0.6384751927959369,1.2400952109646224,1.8252839668668872,2.1490275000846455,0.3411247866204813,0.25674435287618097,1.4792694512878823,-0.6430331731987161,-1.0704240412995931,-0.29662907982533954,-0.24363571470103793,-0.730090640454629,-1.481501683717676,0.9651673022673987],\"type\":\"scatter3d\"}],                        {\"template\":{\"data\":{\"histogram2dcontour\":[{\"type\":\"histogram2dcontour\",\"colorbar\":{\"outlinewidth\":0,\"ticks\":\"\"},\"colorscale\":[[0.0,\"#0d0887\"],[0.1111111111111111,\"#46039f\"],[0.2222222222222222,\"#7201a8\"],[0.3333333333333333,\"#9c179e\"],[0.4444444444444444,\"#bd3786\"],[0.5555555555555556,\"#d8576b\"],[0.6666666666666666,\"#ed7953\"],[0.7777777777777778,\"#fb9f3a\"],[0.8888888888888888,\"#fdca26\"],[1.0,\"#f0f921\"]]}],\"choropleth\":[{\"type\":\"choropleth\",\"colorbar\":{\"outlinewidth\":0,\"ticks\":\"\"}}],\"histogram2d\":[{\"type\":\"histogram2d\",\"colorbar\":{\"outlinewidth\":0,\"ticks\":\"\"},\"colorscale\":[[0.0,\"#0d0887\"],[0.1111111111111111,\"#46039f\"],[0.2222222222222222,\"#7201a8\"],[0.3333333333333333,\"#9c179e\"],[0.4444444444444444,\"#bd3786\"],[0.5555555555555556,\"#d8576b\"],[0.6666666666666666,\"#ed7953\"],[0.7777777777777778,\"#fb9f3a\"],[0.8888888888888888,\"#fdca26\"],[1.0,\"#f0f921\"]]}],\"heatmap\":[{\"type\":\"heatmap\",\"colorbar\":{\"outlinewidth\":0,\"ticks\":\"\"},\"colorscale\":[[0.0,\"#0d0887\"],[0.1111111111111111,\"#46039f\"],[0.2222222222222222,\"#7201a8\"],[0.3333333333333333,\"#9c179e\"],[0.4444444444444444,\"#bd3786\"],[0.5555555555555556,\"#d8576b\"],[0.6666666666666666,\"#ed7953\"],[0.7777777777777778,\"#fb9f3a\"],[0.8888888888888888,\"#fdca26\"],[1.0,\"#f0f921\"]]}],\"heatmapgl\":[{\"type\":\"heatmapgl\",\"colorbar\":{\"outlinewidth\":0,\"ticks\":\"\"},\"colorscale\":[[0.0,\"#0d0887\"],[0.1111111111111111,\"#46039f\"],[0.2222222222222222,\"#7201a8\"],[0.3333333333333333,\"#9c179e\"],[0.4444444444444444,\"#bd3786\"],[0.5555555555555556,\"#d8576b\"],[0.6666666666666666,\"#ed7953\"],[0.7777777777777778,\"#fb9f3a\"],[0.8888888888888888,\"#fdca26\"],[1.0,\"#f0f921\"]]}],\"contourcarpet\":[{\"type\":\"contourcarpet\",\"colorbar\":{\"outlinewidth\":0,\"ticks\":\"\"}}],\"contour\":[{\"type\":\"contour\",\"colorbar\":{\"outlinewidth\":0,\"ticks\":\"\"},\"colorscale\":[[0.0,\"#0d0887\"],[0.1111111111111111,\"#46039f\"],[0.2222222222222222,\"#7201a8\"],[0.3333333333333333,\"#9c179e\"],[0.4444444444444444,\"#bd3786\"],[0.5555555555555556,\"#d8576b\"],[0.6666666666666666,\"#ed7953\"],[0.7777777777777778,\"#fb9f3a\"],[0.8888888888888888,\"#fdca26\"],[1.0,\"#f0f921\"]]}],\"surface\":[{\"type\":\"surface\",\"colorbar\":{\"outlinewidth\":0,\"ticks\":\"\"},\"colorscale\":[[0.0,\"#0d0887\"],[0.1111111111111111,\"#46039f\"],[0.2222222222222222,\"#7201a8\"],[0.3333333333333333,\"#9c179e\"],[0.4444444444444444,\"#bd3786\"],[0.5555555555555556,\"#d8576b\"],[0.6666666666666666,\"#ed7953\"],[0.7777777777777778,\"#fb9f3a\"],[0.8888888888888888,\"#fdca26\"],[1.0,\"#f0f921\"]]}],\"mesh3d\":[{\"type\":\"mesh3d\",\"colorbar\":{\"outlinewidth\":0,\"ticks\":\"\"}}],\"scatter\":[{\"fillpattern\":{\"fillmode\":\"overlay\",\"size\":10,\"solidity\":0.2},\"type\":\"scatter\"}],\"parcoords\":[{\"type\":\"parcoords\",\"line\":{\"colorbar\":{\"outlinewidth\":0,\"ticks\":\"\"}}}],\"scatterpolargl\":[{\"type\":\"scatterpolargl\",\"marker\":{\"colorbar\":{\"outlinewidth\":0,\"ticks\":\"\"}}}],\"bar\":[{\"error_x\":{\"color\":\"#2a3f5f\"},\"error_y\":{\"color\":\"#2a3f5f\"},\"marker\":{\"line\":{\"color\":\"#E5ECF6\",\"width\":0.5},\"pattern\":{\"fillmode\":\"overlay\",\"size\":10,\"solidity\":0.2}},\"type\":\"bar\"}],\"scattergeo\":[{\"type\":\"scattergeo\",\"marker\":{\"colorbar\":{\"outlinewidth\":0,\"ticks\":\"\"}}}],\"scatterpolar\":[{\"type\":\"scatterpolar\",\"marker\":{\"colorbar\":{\"outlinewidth\":0,\"ticks\":\"\"}}}],\"histogram\":[{\"marker\":{\"pattern\":{\"fillmode\":\"overlay\",\"size\":10,\"solidity\":0.2}},\"type\":\"histogram\"}],\"scattergl\":[{\"type\":\"scattergl\",\"marker\":{\"colorbar\":{\"outlinewidth\":0,\"ticks\":\"\"}}}],\"scatter3d\":[{\"type\":\"scatter3d\",\"line\":{\"colorbar\":{\"outlinewidth\":0,\"ticks\":\"\"}},\"marker\":{\"colorbar\":{\"outlinewidth\":0,\"ticks\":\"\"}}}],\"scattermapbox\":[{\"type\":\"scattermapbox\",\"marker\":{\"colorbar\":{\"outlinewidth\":0,\"ticks\":\"\"}}}],\"scatterternary\":[{\"type\":\"scatterternary\",\"marker\":{\"colorbar\":{\"outlinewidth\":0,\"ticks\":\"\"}}}],\"scattercarpet\":[{\"type\":\"scattercarpet\",\"marker\":{\"colorbar\":{\"outlinewidth\":0,\"ticks\":\"\"}}}],\"carpet\":[{\"aaxis\":{\"endlinecolor\":\"#2a3f5f\",\"gridcolor\":\"white\",\"linecolor\":\"white\",\"minorgridcolor\":\"white\",\"startlinecolor\":\"#2a3f5f\"},\"baxis\":{\"endlinecolor\":\"#2a3f5f\",\"gridcolor\":\"white\",\"linecolor\":\"white\",\"minorgridcolor\":\"white\",\"startlinecolor\":\"#2a3f5f\"},\"type\":\"carpet\"}],\"table\":[{\"cells\":{\"fill\":{\"color\":\"#EBF0F8\"},\"line\":{\"color\":\"white\"}},\"header\":{\"fill\":{\"color\":\"#C8D4E3\"},\"line\":{\"color\":\"white\"}},\"type\":\"table\"}],\"barpolar\":[{\"marker\":{\"line\":{\"color\":\"#E5ECF6\",\"width\":0.5},\"pattern\":{\"fillmode\":\"overlay\",\"size\":10,\"solidity\":0.2}},\"type\":\"barpolar\"}],\"pie\":[{\"automargin\":true,\"type\":\"pie\"}]},\"layout\":{\"autotypenumbers\":\"strict\",\"colorway\":[\"#636efa\",\"#EF553B\",\"#00cc96\",\"#ab63fa\",\"#FFA15A\",\"#19d3f3\",\"#FF6692\",\"#B6E880\",\"#FF97FF\",\"#FECB52\"],\"font\":{\"color\":\"#2a3f5f\"},\"hovermode\":\"closest\",\"hoverlabel\":{\"align\":\"left\"},\"paper_bgcolor\":\"white\",\"plot_bgcolor\":\"#E5ECF6\",\"polar\":{\"bgcolor\":\"#E5ECF6\",\"angularaxis\":{\"gridcolor\":\"white\",\"linecolor\":\"white\",\"ticks\":\"\"},\"radialaxis\":{\"gridcolor\":\"white\",\"linecolor\":\"white\",\"ticks\":\"\"}},\"ternary\":{\"bgcolor\":\"#E5ECF6\",\"aaxis\":{\"gridcolor\":\"white\",\"linecolor\":\"white\",\"ticks\":\"\"},\"baxis\":{\"gridcolor\":\"white\",\"linecolor\":\"white\",\"ticks\":\"\"},\"caxis\":{\"gridcolor\":\"white\",\"linecolor\":\"white\",\"ticks\":\"\"}},\"coloraxis\":{\"colorbar\":{\"outlinewidth\":0,\"ticks\":\"\"}},\"colorscale\":{\"sequential\":[[0.0,\"#0d0887\"],[0.1111111111111111,\"#46039f\"],[0.2222222222222222,\"#7201a8\"],[0.3333333333333333,\"#9c179e\"],[0.4444444444444444,\"#bd3786\"],[0.5555555555555556,\"#d8576b\"],[0.6666666666666666,\"#ed7953\"],[0.7777777777777778,\"#fb9f3a\"],[0.8888888888888888,\"#fdca26\"],[1.0,\"#f0f921\"]],\"sequentialminus\":[[0.0,\"#0d0887\"],[0.1111111111111111,\"#46039f\"],[0.2222222222222222,\"#7201a8\"],[0.3333333333333333,\"#9c179e\"],[0.4444444444444444,\"#bd3786\"],[0.5555555555555556,\"#d8576b\"],[0.6666666666666666,\"#ed7953\"],[0.7777777777777778,\"#fb9f3a\"],[0.8888888888888888,\"#fdca26\"],[1.0,\"#f0f921\"]],\"diverging\":[[0,\"#8e0152\"],[0.1,\"#c51b7d\"],[0.2,\"#de77ae\"],[0.3,\"#f1b6da\"],[0.4,\"#fde0ef\"],[0.5,\"#f7f7f7\"],[0.6,\"#e6f5d0\"],[0.7,\"#b8e186\"],[0.8,\"#7fbc41\"],[0.9,\"#4d9221\"],[1,\"#276419\"]]},\"xaxis\":{\"gridcolor\":\"white\",\"linecolor\":\"white\",\"ticks\":\"\",\"title\":{\"standoff\":15},\"zerolinecolor\":\"white\",\"automargin\":true,\"zerolinewidth\":2},\"yaxis\":{\"gridcolor\":\"white\",\"linecolor\":\"white\",\"ticks\":\"\",\"title\":{\"standoff\":15},\"zerolinecolor\":\"white\",\"automargin\":true,\"zerolinewidth\":2},\"scene\":{\"xaxis\":{\"backgroundcolor\":\"#E5ECF6\",\"gridcolor\":\"white\",\"linecolor\":\"white\",\"showbackground\":true,\"ticks\":\"\",\"zerolinecolor\":\"white\",\"gridwidth\":2},\"yaxis\":{\"backgroundcolor\":\"#E5ECF6\",\"gridcolor\":\"white\",\"linecolor\":\"white\",\"showbackground\":true,\"ticks\":\"\",\"zerolinecolor\":\"white\",\"gridwidth\":2},\"zaxis\":{\"backgroundcolor\":\"#E5ECF6\",\"gridcolor\":\"white\",\"linecolor\":\"white\",\"showbackground\":true,\"ticks\":\"\",\"zerolinecolor\":\"white\",\"gridwidth\":2}},\"shapedefaults\":{\"line\":{\"color\":\"#2a3f5f\"}},\"annotationdefaults\":{\"arrowcolor\":\"#2a3f5f\",\"arrowhead\":0,\"arrowwidth\":1},\"geo\":{\"bgcolor\":\"white\",\"landcolor\":\"#E5ECF6\",\"subunitcolor\":\"white\",\"showland\":true,\"showlakes\":true,\"lakecolor\":\"white\"},\"title\":{\"x\":0.05},\"mapbox\":{\"style\":\"light\"}}},\"scene\":{\"domain\":{\"x\":[0.0,1.0],\"y\":[0.0,1.0]},\"xaxis\":{\"title\":{\"text\":\"PC1\"}},\"yaxis\":{\"title\":{\"text\":\"PC2\"}},\"zaxis\":{\"title\":{\"text\":\"PC3\"}}},\"coloraxis\":{\"colorbar\":{\"title\":{\"text\":\"color\"}},\"colorscale\":[[0.0,\"#0d0887\"],[0.1111111111111111,\"#46039f\"],[0.2222222222222222,\"#7201a8\"],[0.3333333333333333,\"#9c179e\"],[0.4444444444444444,\"#bd3786\"],[0.5555555555555556,\"#d8576b\"],[0.6666666666666666,\"#ed7953\"],[0.7777777777777778,\"#fb9f3a\"],[0.8888888888888888,\"#fdca26\"],[1.0,\"#f0f921\"]]},\"legend\":{\"tracegroupgap\":0},\"margin\":{\"t\":60}},                        {\"responsive\": true}                    ).then(function(){\n",
       "                            \n",
       "var gd = document.getElementById('8ab6d55b-0d01-4b65-bd99-a18c1d18e831');\n",
       "var x = new MutationObserver(function (mutations, observer) {{\n",
       "        var display = window.getComputedStyle(gd).display;\n",
       "        if (!display || display === 'none') {{\n",
       "            console.log([gd, 'removed!']);\n",
       "            Plotly.purge(gd);\n",
       "            observer.disconnect();\n",
       "        }}\n",
       "}});\n",
       "\n",
       "// Listen for the removal of the full notebook cells\n",
       "var notebookContainer = gd.closest('#notebook-container');\n",
       "if (notebookContainer) {{\n",
       "    x.observe(notebookContainer, {childList: true});\n",
       "}}\n",
       "\n",
       "// Listen for the clearing of the current output cell\n",
       "var outputEl = gd.closest('.output');\n",
       "if (outputEl) {{\n",
       "    x.observe(outputEl, {childList: true});\n",
       "}}\n",
       "\n",
       "                        })                };                });            </script>        </div>"
      ]
     },
     "metadata": {},
     "output_type": "display_data"
    }
   ],
   "source": [
    "fig = px.scatter_3d(new_components, x='PC1', y='PC2', z='PC3', color=cluster_k.labels_)\n",
    "fig.show()"
   ]
  },
  {
   "cell_type": "markdown",
   "id": "cc8b80b0",
   "metadata": {},
   "source": [
    "En observant bien les deux graphiques, on remarque un certain nombre de différences dans les clusters."
   ]
  },
  {
   "cell_type": "markdown",
   "id": "fcfdded3",
   "metadata": {},
   "source": [
    "Pour faire un choix entre les deux, il faut garder à l'esprit que la méthode de classification hiérarchique a une grande complexité algorithmique : comme elle calcule les distances entre tous les points deux à deux avant de les classer par distance croissante (ou décroissante en classification hiérarchique descendante ou divisive) elle est lourde et demande de la mémoire. De plus, en rechercher les centroïdes demande un travail supplémentaire. Ainsi, cet algorithme ne convient que pour des jeux de données assez légers. De plus, le choix du nombre de clusters, qui doit être fait manuellement sur le dendrogramme, peut être arbitraire ou discutable."
   ]
  },
  {
   "cell_type": "markdown",
   "id": "245e5887",
   "metadata": {},
   "source": [
    "L'algorithme de k-means, en revanche, est plus autonome, plus rapide et plus polyvalent. Son principal inconvénient est qu'il faut lui indiquer en amont le nombre de clusters souhaité. Pour cela, on a vu que l'on avait plusieurs méthodes mathématiques, qui donnent automatiquement le nombre de clusters optimal, mais c'est un travail qu'il faut pré-faire pour l'algorithme."
   ]
  }
 ],
 "metadata": {
  "kernelspec": {
   "display_name": "Python 3 (ipykernel)",
   "language": "python",
   "name": "python3"
  },
  "language_info": {
   "codemirror_mode": {
    "name": "ipython",
    "version": 3
   },
   "file_extension": ".py",
   "mimetype": "text/x-python",
   "name": "python",
   "nbconvert_exporter": "python",
   "pygments_lexer": "ipython3",
   "version": "3.9.7"
  }
 },
 "nbformat": 4,
 "nbformat_minor": 5
}
